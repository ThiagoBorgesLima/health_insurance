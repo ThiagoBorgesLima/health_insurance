{
 "cells": [
  {
   "cell_type": "markdown",
   "metadata": {},
   "source": [
    "# 0.0. Imports"
   ]
  },
  {
   "cell_type": "code",
   "execution_count": 11,
   "metadata": {},
   "outputs": [],
   "source": [
    "import json\n",
    "import numpy      as np\n",
    "import pandas     as pd\n",
    "import pickle\n",
    "import xgboost    as xgb\n",
    "import seaborn    as sns\n",
    "import scikitplot as skplt\n",
    "\n",
    "from xgboost               import XGBClassifier\n",
    "from sklearn               import preprocessing as pp\n",
    "from sklearn               import model_selection as ms\n",
    "from sklearn               import ensemble as en\n",
    "from sklearn               import neighbors as nh\n",
    "from sklearn               import linear_model as lm\n",
    "from matplotlib            import pyplot as plt\n",
    "from sklearn.ensemble      import RandomForestClassifier\n",
    "from sklearn.ensemble      import ExtraTreesClassifier"
   ]
  },
  {
   "cell_type": "markdown",
   "metadata": {},
   "source": [
    "## 0.1. Loading Data"
   ]
  },
  {
   "cell_type": "code",
   "execution_count": 12,
   "metadata": {},
   "outputs": [],
   "source": [
    "df_raw = pd.read_csv( '/Users/thiago/Thiago/Data_Science/comunidade_ds/health_insurance/data/raw/train.csv' )"
   ]
  },
  {
   "cell_type": "code",
   "execution_count": 13,
   "metadata": {},
   "outputs": [
    {
     "data": {
      "text/html": [
       "<div>\n",
       "<style scoped>\n",
       "    .dataframe tbody tr th:only-of-type {\n",
       "        vertical-align: middle;\n",
       "    }\n",
       "\n",
       "    .dataframe tbody tr th {\n",
       "        vertical-align: top;\n",
       "    }\n",
       "\n",
       "    .dataframe thead th {\n",
       "        text-align: right;\n",
       "    }\n",
       "</style>\n",
       "<table border=\"1\" class=\"dataframe\">\n",
       "  <thead>\n",
       "    <tr style=\"text-align: right;\">\n",
       "      <th></th>\n",
       "      <th>id</th>\n",
       "      <th>Gender</th>\n",
       "      <th>Age</th>\n",
       "      <th>Driving_License</th>\n",
       "      <th>Region_Code</th>\n",
       "      <th>Previously_Insured</th>\n",
       "      <th>Vehicle_Age</th>\n",
       "      <th>Vehicle_Damage</th>\n",
       "      <th>Annual_Premium</th>\n",
       "      <th>Policy_Sales_Channel</th>\n",
       "      <th>Vintage</th>\n",
       "      <th>Response</th>\n",
       "    </tr>\n",
       "  </thead>\n",
       "  <tbody>\n",
       "    <tr>\n",
       "      <th>0</th>\n",
       "      <td>1</td>\n",
       "      <td>Male</td>\n",
       "      <td>44</td>\n",
       "      <td>1</td>\n",
       "      <td>28.0</td>\n",
       "      <td>0</td>\n",
       "      <td>&gt; 2 Years</td>\n",
       "      <td>Yes</td>\n",
       "      <td>40454.0</td>\n",
       "      <td>26.0</td>\n",
       "      <td>217</td>\n",
       "      <td>1</td>\n",
       "    </tr>\n",
       "    <tr>\n",
       "      <th>1</th>\n",
       "      <td>2</td>\n",
       "      <td>Male</td>\n",
       "      <td>76</td>\n",
       "      <td>1</td>\n",
       "      <td>3.0</td>\n",
       "      <td>0</td>\n",
       "      <td>1-2 Year</td>\n",
       "      <td>No</td>\n",
       "      <td>33536.0</td>\n",
       "      <td>26.0</td>\n",
       "      <td>183</td>\n",
       "      <td>0</td>\n",
       "    </tr>\n",
       "    <tr>\n",
       "      <th>2</th>\n",
       "      <td>3</td>\n",
       "      <td>Male</td>\n",
       "      <td>47</td>\n",
       "      <td>1</td>\n",
       "      <td>28.0</td>\n",
       "      <td>0</td>\n",
       "      <td>&gt; 2 Years</td>\n",
       "      <td>Yes</td>\n",
       "      <td>38294.0</td>\n",
       "      <td>26.0</td>\n",
       "      <td>27</td>\n",
       "      <td>1</td>\n",
       "    </tr>\n",
       "    <tr>\n",
       "      <th>3</th>\n",
       "      <td>4</td>\n",
       "      <td>Male</td>\n",
       "      <td>21</td>\n",
       "      <td>1</td>\n",
       "      <td>11.0</td>\n",
       "      <td>1</td>\n",
       "      <td>&lt; 1 Year</td>\n",
       "      <td>No</td>\n",
       "      <td>28619.0</td>\n",
       "      <td>152.0</td>\n",
       "      <td>203</td>\n",
       "      <td>0</td>\n",
       "    </tr>\n",
       "    <tr>\n",
       "      <th>4</th>\n",
       "      <td>5</td>\n",
       "      <td>Female</td>\n",
       "      <td>29</td>\n",
       "      <td>1</td>\n",
       "      <td>41.0</td>\n",
       "      <td>1</td>\n",
       "      <td>&lt; 1 Year</td>\n",
       "      <td>No</td>\n",
       "      <td>27496.0</td>\n",
       "      <td>152.0</td>\n",
       "      <td>39</td>\n",
       "      <td>0</td>\n",
       "    </tr>\n",
       "  </tbody>\n",
       "</table>\n",
       "</div>"
      ],
      "text/plain": [
       "   id  Gender  Age  Driving_License  Region_Code  Previously_Insured  \\\n",
       "0   1    Male   44                1         28.0                   0   \n",
       "1   2    Male   76                1          3.0                   0   \n",
       "2   3    Male   47                1         28.0                   0   \n",
       "3   4    Male   21                1         11.0                   1   \n",
       "4   5  Female   29                1         41.0                   1   \n",
       "\n",
       "  Vehicle_Age Vehicle_Damage  Annual_Premium  Policy_Sales_Channel  Vintage  \\\n",
       "0   > 2 Years            Yes         40454.0                  26.0      217   \n",
       "1    1-2 Year             No         33536.0                  26.0      183   \n",
       "2   > 2 Years            Yes         38294.0                  26.0       27   \n",
       "3    < 1 Year             No         28619.0                 152.0      203   \n",
       "4    < 1 Year             No         27496.0                 152.0       39   \n",
       "\n",
       "   Response  \n",
       "0         1  \n",
       "1         0  \n",
       "2         1  \n",
       "3         0  \n",
       "4         0  "
      ]
     },
     "execution_count": 13,
     "metadata": {},
     "output_type": "execute_result"
    }
   ],
   "source": [
    "df_raw.head()"
   ]
  },
  {
   "cell_type": "markdown",
   "metadata": {},
   "source": [
    "## 0.2. Helper Functions"
   ]
  },
  {
   "cell_type": "code",
   "execution_count": 72,
   "metadata": {},
   "outputs": [],
   "source": [
    "sns.set(rc={'figure.figsize':(17,10)}) # Aumenta o tamanho dos plots no seaborn\n",
    "\n",
    "def precision_at_k( data, yhat_proba, perc ):\n",
    "\n",
    "    k = int(np.floor( len( data ) * perc ) )\n",
    "    data['score'] = yhat_proba[:,1].tolist()\n",
    "    data = data.sort_values( 'score', ascending=False )\n",
    "    data = data.reset_index( drop=True )\n",
    "    data['ranking'] = data.index+1\n",
    "    data['precision_at_k'] = data['response'].cumsum() / data['ranking']\n",
    "    \n",
    "    # # reset index\n",
    "    # data = data.reset_index( drop=True )\n",
    "    # # create ranking order\n",
    "    # data['ranking'] = data.index + 1\n",
    "    # data['precision_at_k'] = data['response'].cumsum() / data['ranking']\n",
    "    # return data.loc[k, 'precision_at_k']\n",
    "\n",
    "    return data.loc[k,'precision_at_k']\n",
    "\n",
    "\n",
    "def recall_at_k( data, yhat_proba, perc ):\n",
    "\n",
    "    k = int(np.floor( len( data ) * perc ) )\n",
    "    data['score'] = yhat_proba[:,1].tolist()\n",
    "    data = data.sort_values( 'score', ascending=False )\n",
    "    data = data.reset_index( drop=True )\n",
    "    data['recall_at_k'] = data['response'].cumsum() / data['response'].sum()\n",
    "\n",
    "    # reset index\n",
    "    # data = data.reset_index( drop=True )\n",
    "    # # create ranking order\n",
    "    # data['ranking'] = data.index + 1\n",
    "    # data['recall_at_k'] = data['response'].cumsum() / data['response'].sum()\n",
    "    # return data.loc[k, 'recall_at_k']\n",
    "\n",
    "    return data.loc[k, 'recall_at_k' ]\n"
   ]
  },
  {
   "cell_type": "code",
   "execution_count": 129,
   "metadata": {},
   "outputs": [],
   "source": [
    "def cross_validation( models_performance, num_folds, modelName, model, x_train, y_train ):\n",
    "    kfold=ms.StratifiedKFold( n_splits = num_folds, shuffle=True, random_state=42 )\n",
    "\n",
    "    precision_list = []\n",
    "    recall_list = []\n",
    "    f1_list = []\n",
    "    roc_list = []\n",
    "\n",
    "    i = 1\n",
    "    for train_cv, val_cv in kfold.split( x_train, y_train ):\n",
    "\n",
    "        x_train_fold = x_train.iloc[train_cv]\n",
    "        y_train_fold = y_train.iloc[train_cv]\n",
    "\n",
    "        x_val_fold = x_train.iloc[val_cv]\n",
    "        y_val_fold = y_train.iloc[val_cv]\n",
    "\n",
    "        model_fit = model.fit( x_train_fold, y_train_fold )\n",
    "\n",
    "        yhat_model = model_fit.predict_proba( x_val_fold )\n",
    "\n",
    "        x_val_fold['response'] = y_val_fold\n",
    "        precision = round(precision_at_k( x_val_fold, yhat_model, 0.20 ), 3 )\n",
    "        recall = round( recall_at_k( x_val_fold, yhat_model, 0.20), 3 )\n",
    "        \n",
    "        precision_list.append( precision )\n",
    "        recall_list.append( recall )\n",
    "\n",
    "        i += 1\n",
    "\n",
    "        precision_str = np.round( np.mean( precision_list ), 4).astype(str) + '+/-' + np.round( np.std( precision_list ), 4).astype(str)\n",
    "        recall_str = np.round( np.mean( recall_list ), 4).astype(str) + '+/-' + np.round( np.std( recall_list), 4).astype(str)\n",
    "\n",
    "        models_performance = models_performance.append(pd.Series( [ modelName, precision_str, recall_str ], index=models_performance.columns ), ignore_index = True )\n",
    "\n",
    "        return models_performance"
   ]
  },
  {
   "cell_type": "markdown",
   "metadata": {},
   "source": [
    "# 1.0. DATA DESCRIPTION"
   ]
  },
  {
   "cell_type": "code",
   "execution_count": 16,
   "metadata": {},
   "outputs": [],
   "source": [
    "df1 = df_raw.copy()"
   ]
  },
  {
   "cell_type": "markdown",
   "metadata": {},
   "source": [
    "## 1.1. Rename Columns"
   ]
  },
  {
   "cell_type": "code",
   "execution_count": 17,
   "metadata": {},
   "outputs": [
    {
     "data": {
      "text/plain": [
       "Index(['id', 'Gender', 'Age', 'Driving_License', 'Region_Code',\n",
       "       'Previously_Insured', 'Vehicle_Age', 'Vehicle_Damage', 'Annual_Premium',\n",
       "       'Policy_Sales_Channel', 'Vintage', 'Response'],\n",
       "      dtype='object')"
      ]
     },
     "execution_count": 17,
     "metadata": {},
     "output_type": "execute_result"
    }
   ],
   "source": [
    "df1.columns"
   ]
  },
  {
   "cell_type": "code",
   "execution_count": 18,
   "metadata": {},
   "outputs": [],
   "source": [
    " cols_new = ['id', 'gender', 'age', 'driving_license', 'region_code',\n",
    "       'previously_insured', 'vehicle_age', 'vehicle_damage', 'annual_premium',\n",
    "       'policy_sales_channel', 'vintage', 'response']\n",
    "\n",
    "df1.columns = cols_new"
   ]
  },
  {
   "cell_type": "code",
   "execution_count": 19,
   "metadata": {},
   "outputs": [
    {
     "data": {
      "text/plain": [
       "Index(['id', 'gender', 'age', 'driving_license', 'region_code',\n",
       "       'previously_insured', 'vehicle_age', 'vehicle_damage', 'annual_premium',\n",
       "       'policy_sales_channel', 'vintage', 'response'],\n",
       "      dtype='object')"
      ]
     },
     "execution_count": 19,
     "metadata": {},
     "output_type": "execute_result"
    }
   ],
   "source": [
    "df1.columns"
   ]
  },
  {
   "cell_type": "markdown",
   "metadata": {},
   "source": [
    "## 1.2. Data Dimensions"
   ]
  },
  {
   "cell_type": "code",
   "execution_count": 20,
   "metadata": {},
   "outputs": [
    {
     "name": "stdout",
     "output_type": "stream",
     "text": [
      "Number of rows:381109\n",
      "Number of columns:12\n"
     ]
    }
   ],
   "source": [
    "print( 'Number of rows:{}'.format( df1.shape[0]))\n",
    "print( 'Number of columns:{}'.format( df1.shape[1]))"
   ]
  },
  {
   "cell_type": "markdown",
   "metadata": {},
   "source": [
    "## 1.3. Data Types"
   ]
  },
  {
   "cell_type": "code",
   "execution_count": 21,
   "metadata": {},
   "outputs": [
    {
     "data": {
      "text/plain": [
       "id                        int64\n",
       "gender                   object\n",
       "age                       int64\n",
       "driving_license           int64\n",
       "region_code             float64\n",
       "previously_insured        int64\n",
       "vehicle_age              object\n",
       "vehicle_damage           object\n",
       "annual_premium          float64\n",
       "policy_sales_channel    float64\n",
       "vintage                   int64\n",
       "response                  int64\n",
       "dtype: object"
      ]
     },
     "execution_count": 21,
     "metadata": {},
     "output_type": "execute_result"
    }
   ],
   "source": [
    "df1.dtypes"
   ]
  },
  {
   "cell_type": "markdown",
   "metadata": {},
   "source": [
    "## 1.4. Check NA"
   ]
  },
  {
   "cell_type": "code",
   "execution_count": 22,
   "metadata": {},
   "outputs": [
    {
     "data": {
      "text/plain": [
       "id                      0\n",
       "gender                  0\n",
       "age                     0\n",
       "driving_license         0\n",
       "region_code             0\n",
       "previously_insured      0\n",
       "vehicle_age             0\n",
       "vehicle_damage          0\n",
       "annual_premium          0\n",
       "policy_sales_channel    0\n",
       "vintage                 0\n",
       "response                0\n",
       "dtype: int64"
      ]
     },
     "execution_count": 22,
     "metadata": {},
     "output_type": "execute_result"
    }
   ],
   "source": [
    "df1.isna().sum()"
   ]
  },
  {
   "cell_type": "markdown",
   "metadata": {},
   "source": [
    "## 1.5. Descriptive Statistical"
   ]
  },
  {
   "cell_type": "code",
   "execution_count": 23,
   "metadata": {},
   "outputs": [],
   "source": [
    "num_attributes = df1.select_dtypes( include=['int64', 'float64'] )\n",
    "cat_attributes = df1.select_dtypes( include=['int64', 'float64', 'datetime64[ns]'] )"
   ]
  },
  {
   "cell_type": "code",
   "execution_count": 24,
   "metadata": {},
   "outputs": [
    {
     "data": {
      "text/html": [
       "<div>\n",
       "<style scoped>\n",
       "    .dataframe tbody tr th:only-of-type {\n",
       "        vertical-align: middle;\n",
       "    }\n",
       "\n",
       "    .dataframe tbody tr th {\n",
       "        vertical-align: top;\n",
       "    }\n",
       "\n",
       "    .dataframe thead th {\n",
       "        text-align: right;\n",
       "    }\n",
       "</style>\n",
       "<table border=\"1\" class=\"dataframe\">\n",
       "  <thead>\n",
       "    <tr style=\"text-align: right;\">\n",
       "      <th></th>\n",
       "      <th>attributes</th>\n",
       "      <th>min</th>\n",
       "      <th>max</th>\n",
       "      <th>range</th>\n",
       "      <th>mean</th>\n",
       "      <th>median</th>\n",
       "      <th>std</th>\n",
       "      <th>skew</th>\n",
       "      <th>kurtosis</th>\n",
       "    </tr>\n",
       "  </thead>\n",
       "  <tbody>\n",
       "    <tr>\n",
       "      <th>0</th>\n",
       "      <td>id</td>\n",
       "      <td>1.0</td>\n",
       "      <td>381109.0</td>\n",
       "      <td>381108.0</td>\n",
       "      <td>190555.000000</td>\n",
       "      <td>190555.0</td>\n",
       "      <td>110016.691870</td>\n",
       "      <td>9.443274e-16</td>\n",
       "      <td>-1.200000</td>\n",
       "    </tr>\n",
       "    <tr>\n",
       "      <th>1</th>\n",
       "      <td>age</td>\n",
       "      <td>20.0</td>\n",
       "      <td>85.0</td>\n",
       "      <td>65.0</td>\n",
       "      <td>38.822584</td>\n",
       "      <td>36.0</td>\n",
       "      <td>15.511591</td>\n",
       "      <td>6.725390e-01</td>\n",
       "      <td>-0.565655</td>\n",
       "    </tr>\n",
       "    <tr>\n",
       "      <th>2</th>\n",
       "      <td>driving_license</td>\n",
       "      <td>0.0</td>\n",
       "      <td>1.0</td>\n",
       "      <td>1.0</td>\n",
       "      <td>0.997869</td>\n",
       "      <td>1.0</td>\n",
       "      <td>0.046109</td>\n",
       "      <td>-2.159518e+01</td>\n",
       "      <td>464.354302</td>\n",
       "    </tr>\n",
       "    <tr>\n",
       "      <th>3</th>\n",
       "      <td>region_code</td>\n",
       "      <td>0.0</td>\n",
       "      <td>52.0</td>\n",
       "      <td>52.0</td>\n",
       "      <td>26.388807</td>\n",
       "      <td>28.0</td>\n",
       "      <td>13.229871</td>\n",
       "      <td>-1.152664e-01</td>\n",
       "      <td>-0.867857</td>\n",
       "    </tr>\n",
       "    <tr>\n",
       "      <th>4</th>\n",
       "      <td>previously_insured</td>\n",
       "      <td>0.0</td>\n",
       "      <td>1.0</td>\n",
       "      <td>1.0</td>\n",
       "      <td>0.458210</td>\n",
       "      <td>0.0</td>\n",
       "      <td>0.498251</td>\n",
       "      <td>1.677471e-01</td>\n",
       "      <td>-1.971871</td>\n",
       "    </tr>\n",
       "    <tr>\n",
       "      <th>5</th>\n",
       "      <td>annual_premium</td>\n",
       "      <td>2630.0</td>\n",
       "      <td>540165.0</td>\n",
       "      <td>537535.0</td>\n",
       "      <td>30564.389581</td>\n",
       "      <td>31669.0</td>\n",
       "      <td>17213.132474</td>\n",
       "      <td>1.766087e+00</td>\n",
       "      <td>34.004569</td>\n",
       "    </tr>\n",
       "    <tr>\n",
       "      <th>6</th>\n",
       "      <td>policy_sales_channel</td>\n",
       "      <td>1.0</td>\n",
       "      <td>163.0</td>\n",
       "      <td>162.0</td>\n",
       "      <td>112.034295</td>\n",
       "      <td>133.0</td>\n",
       "      <td>54.203924</td>\n",
       "      <td>-9.000081e-01</td>\n",
       "      <td>-0.970810</td>\n",
       "    </tr>\n",
       "    <tr>\n",
       "      <th>7</th>\n",
       "      <td>vintage</td>\n",
       "      <td>10.0</td>\n",
       "      <td>299.0</td>\n",
       "      <td>289.0</td>\n",
       "      <td>154.347397</td>\n",
       "      <td>154.0</td>\n",
       "      <td>83.671194</td>\n",
       "      <td>3.029517e-03</td>\n",
       "      <td>-1.200688</td>\n",
       "    </tr>\n",
       "    <tr>\n",
       "      <th>8</th>\n",
       "      <td>response</td>\n",
       "      <td>0.0</td>\n",
       "      <td>1.0</td>\n",
       "      <td>1.0</td>\n",
       "      <td>0.122563</td>\n",
       "      <td>0.0</td>\n",
       "      <td>0.327935</td>\n",
       "      <td>2.301906e+00</td>\n",
       "      <td>3.298788</td>\n",
       "    </tr>\n",
       "  </tbody>\n",
       "</table>\n",
       "</div>"
      ],
      "text/plain": [
       "             attributes     min       max     range           mean    median  \\\n",
       "0                    id     1.0  381109.0  381108.0  190555.000000  190555.0   \n",
       "1                   age    20.0      85.0      65.0      38.822584      36.0   \n",
       "2       driving_license     0.0       1.0       1.0       0.997869       1.0   \n",
       "3           region_code     0.0      52.0      52.0      26.388807      28.0   \n",
       "4    previously_insured     0.0       1.0       1.0       0.458210       0.0   \n",
       "5        annual_premium  2630.0  540165.0  537535.0   30564.389581   31669.0   \n",
       "6  policy_sales_channel     1.0     163.0     162.0     112.034295     133.0   \n",
       "7               vintage    10.0     299.0     289.0     154.347397     154.0   \n",
       "8              response     0.0       1.0       1.0       0.122563       0.0   \n",
       "\n",
       "             std          skew    kurtosis  \n",
       "0  110016.691870  9.443274e-16   -1.200000  \n",
       "1      15.511591  6.725390e-01   -0.565655  \n",
       "2       0.046109 -2.159518e+01  464.354302  \n",
       "3      13.229871 -1.152664e-01   -0.867857  \n",
       "4       0.498251  1.677471e-01   -1.971871  \n",
       "5   17213.132474  1.766087e+00   34.004569  \n",
       "6      54.203924 -9.000081e-01   -0.970810  \n",
       "7      83.671194  3.029517e-03   -1.200688  \n",
       "8       0.327935  2.301906e+00    3.298788  "
      ]
     },
     "execution_count": 24,
     "metadata": {},
     "output_type": "execute_result"
    }
   ],
   "source": [
    "# Central Tendency - Mean, Meadian\n",
    "ct1 = pd.DataFrame( num_attributes.apply( np.mean ) ).T\n",
    "ct2 = pd.DataFrame( num_attributes.apply( np.median ) ).T\n",
    "\n",
    "# Dispersion - std, min, max, range, skew, kurtosis\n",
    "d1 = pd.DataFrame( num_attributes.apply( np.std ) ).T\n",
    "d2 = pd.DataFrame( num_attributes.apply( min ) ).T\n",
    "d3 = pd.DataFrame( num_attributes.apply( max ) ).T\n",
    "d4 = pd.DataFrame( num_attributes.apply( lambda x: x.max() - x.min() ) ).T\n",
    "d5 = pd.DataFrame( num_attributes.apply( lambda x: x.skew() ) ).T\n",
    "d6 = pd.DataFrame( num_attributes.apply( lambda x: x.kurtosis() ) ).T\n",
    "\n",
    "# Concat\n",
    "m = pd.concat( [d2, d3, d4, ct1, ct2, d1, d5, d6] ).T.reset_index()\n",
    "m.columns = [ 'attributes', 'min', 'max', 'range', 'mean', 'median', 'std', 'skew', 'kurtosis']\n",
    "m"
   ]
  },
  {
   "cell_type": "markdown",
   "metadata": {},
   "source": [
    "# 2.0. FEATURE ENGINEERING"
   ]
  },
  {
   "cell_type": "code",
   "execution_count": 25,
   "metadata": {},
   "outputs": [],
   "source": [
    "df2 = df1.copy()"
   ]
  },
  {
   "cell_type": "code",
   "execution_count": 26,
   "metadata": {},
   "outputs": [],
   "source": [
    "# vehicle age\n",
    "df2['vehicle_age'] = df2['vehicle_age'].apply( lambda x: 'over_2_years' if x == '> 2 Years' else 'between_1_2_year' \n",
    "                                                                        if x == '1-2 Year' else 'below_1_year' )\n",
    "# vehicle damage                                                                     \n",
    "df2['vehicle_damage'] = df2['vehicle_damage'].apply( lambda x: 1 if x == 'Yes' else 0 )"
   ]
  },
  {
   "cell_type": "code",
   "execution_count": 27,
   "metadata": {},
   "outputs": [
    {
     "data": {
      "text/html": [
       "<div>\n",
       "<style scoped>\n",
       "    .dataframe tbody tr th:only-of-type {\n",
       "        vertical-align: middle;\n",
       "    }\n",
       "\n",
       "    .dataframe tbody tr th {\n",
       "        vertical-align: top;\n",
       "    }\n",
       "\n",
       "    .dataframe thead th {\n",
       "        text-align: right;\n",
       "    }\n",
       "</style>\n",
       "<table border=\"1\" class=\"dataframe\">\n",
       "  <thead>\n",
       "    <tr style=\"text-align: right;\">\n",
       "      <th></th>\n",
       "      <th>id</th>\n",
       "      <th>gender</th>\n",
       "      <th>age</th>\n",
       "      <th>driving_license</th>\n",
       "      <th>region_code</th>\n",
       "      <th>previously_insured</th>\n",
       "      <th>vehicle_age</th>\n",
       "      <th>vehicle_damage</th>\n",
       "      <th>annual_premium</th>\n",
       "      <th>policy_sales_channel</th>\n",
       "      <th>vintage</th>\n",
       "      <th>response</th>\n",
       "    </tr>\n",
       "  </thead>\n",
       "  <tbody>\n",
       "    <tr>\n",
       "      <th>0</th>\n",
       "      <td>1</td>\n",
       "      <td>Male</td>\n",
       "      <td>44</td>\n",
       "      <td>1</td>\n",
       "      <td>28.0</td>\n",
       "      <td>0</td>\n",
       "      <td>over_2_years</td>\n",
       "      <td>1</td>\n",
       "      <td>40454.0</td>\n",
       "      <td>26.0</td>\n",
       "      <td>217</td>\n",
       "      <td>1</td>\n",
       "    </tr>\n",
       "    <tr>\n",
       "      <th>1</th>\n",
       "      <td>2</td>\n",
       "      <td>Male</td>\n",
       "      <td>76</td>\n",
       "      <td>1</td>\n",
       "      <td>3.0</td>\n",
       "      <td>0</td>\n",
       "      <td>between_1_2_year</td>\n",
       "      <td>0</td>\n",
       "      <td>33536.0</td>\n",
       "      <td>26.0</td>\n",
       "      <td>183</td>\n",
       "      <td>0</td>\n",
       "    </tr>\n",
       "    <tr>\n",
       "      <th>2</th>\n",
       "      <td>3</td>\n",
       "      <td>Male</td>\n",
       "      <td>47</td>\n",
       "      <td>1</td>\n",
       "      <td>28.0</td>\n",
       "      <td>0</td>\n",
       "      <td>over_2_years</td>\n",
       "      <td>1</td>\n",
       "      <td>38294.0</td>\n",
       "      <td>26.0</td>\n",
       "      <td>27</td>\n",
       "      <td>1</td>\n",
       "    </tr>\n",
       "    <tr>\n",
       "      <th>3</th>\n",
       "      <td>4</td>\n",
       "      <td>Male</td>\n",
       "      <td>21</td>\n",
       "      <td>1</td>\n",
       "      <td>11.0</td>\n",
       "      <td>1</td>\n",
       "      <td>below_1_year</td>\n",
       "      <td>0</td>\n",
       "      <td>28619.0</td>\n",
       "      <td>152.0</td>\n",
       "      <td>203</td>\n",
       "      <td>0</td>\n",
       "    </tr>\n",
       "    <tr>\n",
       "      <th>4</th>\n",
       "      <td>5</td>\n",
       "      <td>Female</td>\n",
       "      <td>29</td>\n",
       "      <td>1</td>\n",
       "      <td>41.0</td>\n",
       "      <td>1</td>\n",
       "      <td>below_1_year</td>\n",
       "      <td>0</td>\n",
       "      <td>27496.0</td>\n",
       "      <td>152.0</td>\n",
       "      <td>39</td>\n",
       "      <td>0</td>\n",
       "    </tr>\n",
       "    <tr>\n",
       "      <th>5</th>\n",
       "      <td>6</td>\n",
       "      <td>Female</td>\n",
       "      <td>24</td>\n",
       "      <td>1</td>\n",
       "      <td>33.0</td>\n",
       "      <td>0</td>\n",
       "      <td>below_1_year</td>\n",
       "      <td>1</td>\n",
       "      <td>2630.0</td>\n",
       "      <td>160.0</td>\n",
       "      <td>176</td>\n",
       "      <td>0</td>\n",
       "    </tr>\n",
       "    <tr>\n",
       "      <th>6</th>\n",
       "      <td>7</td>\n",
       "      <td>Male</td>\n",
       "      <td>23</td>\n",
       "      <td>1</td>\n",
       "      <td>11.0</td>\n",
       "      <td>0</td>\n",
       "      <td>below_1_year</td>\n",
       "      <td>1</td>\n",
       "      <td>23367.0</td>\n",
       "      <td>152.0</td>\n",
       "      <td>249</td>\n",
       "      <td>0</td>\n",
       "    </tr>\n",
       "    <tr>\n",
       "      <th>7</th>\n",
       "      <td>8</td>\n",
       "      <td>Female</td>\n",
       "      <td>56</td>\n",
       "      <td>1</td>\n",
       "      <td>28.0</td>\n",
       "      <td>0</td>\n",
       "      <td>between_1_2_year</td>\n",
       "      <td>1</td>\n",
       "      <td>32031.0</td>\n",
       "      <td>26.0</td>\n",
       "      <td>72</td>\n",
       "      <td>1</td>\n",
       "    </tr>\n",
       "    <tr>\n",
       "      <th>8</th>\n",
       "      <td>9</td>\n",
       "      <td>Female</td>\n",
       "      <td>24</td>\n",
       "      <td>1</td>\n",
       "      <td>3.0</td>\n",
       "      <td>1</td>\n",
       "      <td>below_1_year</td>\n",
       "      <td>0</td>\n",
       "      <td>27619.0</td>\n",
       "      <td>152.0</td>\n",
       "      <td>28</td>\n",
       "      <td>0</td>\n",
       "    </tr>\n",
       "    <tr>\n",
       "      <th>9</th>\n",
       "      <td>10</td>\n",
       "      <td>Female</td>\n",
       "      <td>32</td>\n",
       "      <td>1</td>\n",
       "      <td>6.0</td>\n",
       "      <td>1</td>\n",
       "      <td>below_1_year</td>\n",
       "      <td>0</td>\n",
       "      <td>28771.0</td>\n",
       "      <td>152.0</td>\n",
       "      <td>80</td>\n",
       "      <td>0</td>\n",
       "    </tr>\n",
       "  </tbody>\n",
       "</table>\n",
       "</div>"
      ],
      "text/plain": [
       "   id  gender  age  driving_license  region_code  previously_insured  \\\n",
       "0   1    Male   44                1         28.0                   0   \n",
       "1   2    Male   76                1          3.0                   0   \n",
       "2   3    Male   47                1         28.0                   0   \n",
       "3   4    Male   21                1         11.0                   1   \n",
       "4   5  Female   29                1         41.0                   1   \n",
       "5   6  Female   24                1         33.0                   0   \n",
       "6   7    Male   23                1         11.0                   0   \n",
       "7   8  Female   56                1         28.0                   0   \n",
       "8   9  Female   24                1          3.0                   1   \n",
       "9  10  Female   32                1          6.0                   1   \n",
       "\n",
       "        vehicle_age  vehicle_damage  annual_premium  policy_sales_channel  \\\n",
       "0      over_2_years               1         40454.0                  26.0   \n",
       "1  between_1_2_year               0         33536.0                  26.0   \n",
       "2      over_2_years               1         38294.0                  26.0   \n",
       "3      below_1_year               0         28619.0                 152.0   \n",
       "4      below_1_year               0         27496.0                 152.0   \n",
       "5      below_1_year               1          2630.0                 160.0   \n",
       "6      below_1_year               1         23367.0                 152.0   \n",
       "7  between_1_2_year               1         32031.0                  26.0   \n",
       "8      below_1_year               0         27619.0                 152.0   \n",
       "9      below_1_year               0         28771.0                 152.0   \n",
       "\n",
       "   vintage  response  \n",
       "0      217         1  \n",
       "1      183         0  \n",
       "2       27         1  \n",
       "3      203         0  \n",
       "4       39         0  \n",
       "5      176         0  \n",
       "6      249         0  \n",
       "7       72         1  \n",
       "8       28         0  \n",
       "9       80         0  "
      ]
     },
     "execution_count": 27,
     "metadata": {},
     "output_type": "execute_result"
    }
   ],
   "source": [
    "df2.head(10)"
   ]
  },
  {
   "cell_type": "markdown",
   "metadata": {},
   "source": [
    "# 3.0. FILTERING"
   ]
  },
  {
   "cell_type": "code",
   "execution_count": 28,
   "metadata": {},
   "outputs": [],
   "source": [
    "df3 = df2.copy()"
   ]
  },
  {
   "cell_type": "markdown",
   "metadata": {},
   "source": [
    "Como não detectamos variáveis muito fora dos possíveis padrões, não será inicialmente realizar uma filtragem\n",
    "de variáveis."
   ]
  },
  {
   "cell_type": "markdown",
   "metadata": {},
   "source": [
    "# 4.0. EDA"
   ]
  },
  {
   "cell_type": "code",
   "execution_count": 29,
   "metadata": {},
   "outputs": [],
   "source": [
    "df4 = df3.copy()"
   ]
  },
  {
   "cell_type": "markdown",
   "metadata": {},
   "source": [
    "## 4.1. Univariate Analisys"
   ]
  },
  {
   "cell_type": "code",
   "execution_count": 30,
   "metadata": {},
   "outputs": [
    {
     "data": {
      "text/plain": [
       "Index(['id', 'gender', 'age', 'driving_license', 'region_code',\n",
       "       'previously_insured', 'vehicle_age', 'vehicle_damage', 'annual_premium',\n",
       "       'policy_sales_channel', 'vintage', 'response'],\n",
       "      dtype='object')"
      ]
     },
     "execution_count": 30,
     "metadata": {},
     "output_type": "execute_result"
    }
   ],
   "source": [
    "df4.columns"
   ]
  },
  {
   "cell_type": "code",
   "execution_count": 31,
   "metadata": {},
   "outputs": [
    {
     "data": {
      "image/png": "[encoded data removed]",
      "text/plain": [
       "<Figure size 432x288 with 3 Axes>"
      ]
     },
     "metadata": {
      "needs_background": "light"
     },
     "output_type": "display_data"
    }
   ],
   "source": [
    "#age\n",
    "plt.subplot( 2, 1, 1)\n",
    "sns.boxplot( x='response', y='age', data=df4)\n",
    "\n",
    "plt.subplot( 2, 2, 3)\n",
    "aux00 = df4.loc[df4['response'] == 0, 'age']\n",
    "sns.histplot( aux00 )\n",
    "\n",
    "plt.subplot( 2, 2, 4)\n",
    "aux00 = df4.loc[df4['response'] == 1, 'age']\n",
    "sns.histplot( aux00 );"
   ]
  },
  {
   "cell_type": "code",
   "execution_count": 32,
   "metadata": {},
   "outputs": [
    {
     "data": {
      "image/png": "[encoded data removed]",
      "text/plain": [
       "<Figure size 432x288 with 3 Axes>"
      ]
     },
     "metadata": {
      "needs_background": "light"
     },
     "output_type": "display_data"
    }
   ],
   "source": [
    "#annual_premium\n",
    "aux0 = df4[ ( df4['annual_premium'] > 10000 ) & ( df4['annual_premium'] < 80000 ) ]\n",
    "plt.subplot( 2, 1, 1)\n",
    "sns.boxplot( x='response', y='annual_premium', data=aux0)\n",
    "\n",
    "plt.subplot( 2, 2, 3)\n",
    "aux1 = aux0.loc[aux0['response'] == 0, 'annual_premium']\n",
    "sns.histplot( aux1 )\n",
    "\n",
    "plt.subplot( 2, 2, 4)\n",
    "aux2= aux0.loc[aux0['response'] == 1, 'annual_premium']\n",
    "sns.histplot( aux2 );"
   ]
  },
  {
   "cell_type": "code",
   "execution_count": 33,
   "metadata": {},
   "outputs": [],
   "source": [
    "#driving_license\n",
    "aux = df4[['driving_license', 'response']].groupby( 'response' ).sum().reset_index()\n",
    "aux.head()\n",
    "aux['driving_license'] = aux['driving_license'] / aux['driving_license'].sum()\n",
    "#sns.barplot( x='response', y='driving_license', data=aux);"
   ]
  },
  {
   "cell_type": "code",
   "execution_count": 34,
   "metadata": {},
   "outputs": [
    {
     "data": {
      "text/html": [
       "<div>\n",
       "<style scoped>\n",
       "    .dataframe tbody tr th:only-of-type {\n",
       "        vertical-align: middle;\n",
       "    }\n",
       "\n",
       "    .dataframe tbody tr th {\n",
       "        vertical-align: top;\n",
       "    }\n",
       "\n",
       "    .dataframe thead th {\n",
       "        text-align: right;\n",
       "    }\n",
       "</style>\n",
       "<table border=\"1\" class=\"dataframe\">\n",
       "  <thead>\n",
       "    <tr style=\"text-align: right;\">\n",
       "      <th></th>\n",
       "      <th>response</th>\n",
       "      <th>driving_license</th>\n",
       "    </tr>\n",
       "  </thead>\n",
       "  <tbody>\n",
       "    <tr>\n",
       "      <th>0</th>\n",
       "      <td>0</td>\n",
       "      <td>0.877283</td>\n",
       "    </tr>\n",
       "    <tr>\n",
       "      <th>1</th>\n",
       "      <td>1</td>\n",
       "      <td>0.122717</td>\n",
       "    </tr>\n",
       "  </tbody>\n",
       "</table>\n",
       "</div>"
      ],
      "text/plain": [
       "   response  driving_license\n",
       "0         0         0.877283\n",
       "1         1         0.122717"
      ]
     },
     "execution_count": 34,
     "metadata": {},
     "output_type": "execute_result"
    }
   ],
   "source": [
    "aux"
   ]
  },
  {
   "cell_type": "code",
   "execution_count": 35,
   "metadata": {},
   "outputs": [
    {
     "data": {
      "image/png": "[encoded data removed]",
      "text/plain": [
       "<Figure size 432x288 with 1 Axes>"
      ]
     },
     "metadata": {
      "needs_background": "light"
     },
     "output_type": "display_data"
    }
   ],
   "source": [
    "#region_code\n",
    "aux = df4[['id', 'region_code', 'response']].groupby( ['region_code', 'response'] ).count().reset_index()\n",
    "sns.scatterplot( x='region_code', y='id', hue='response', data=aux);"
   ]
  },
  {
   "cell_type": "code",
   "execution_count": 36,
   "metadata": {},
   "outputs": [],
   "source": [
    "#gender"
   ]
  },
  {
   "cell_type": "code",
   "execution_count": 37,
   "metadata": {},
   "outputs": [
    {
     "data": {
      "image/png": "[encoded data removed]",
      "text/plain": [
       "<Figure size 432x288 with 1 Axes>"
      ]
     },
     "metadata": {
      "needs_background": "light"
     },
     "output_type": "display_data"
    }
   ],
   "source": [
    "#previously_insured\n",
    "aux = df4[['previously_insured', 'response']].groupby( 'response' ).count().reset_index()\n",
    "aux\n",
    "sns.barplot( x='response', y='previously_insured', data=aux);"
   ]
  },
  {
   "cell_type": "code",
   "execution_count": 38,
   "metadata": {},
   "outputs": [
    {
     "data": {
      "text/html": [
       "<div>\n",
       "<style scoped>\n",
       "    .dataframe tbody tr th:only-of-type {\n",
       "        vertical-align: middle;\n",
       "    }\n",
       "\n",
       "    .dataframe tbody tr th {\n",
       "        vertical-align: top;\n",
       "    }\n",
       "\n",
       "    .dataframe thead th {\n",
       "        text-align: right;\n",
       "    }\n",
       "</style>\n",
       "<table border=\"1\" class=\"dataframe\">\n",
       "  <thead>\n",
       "    <tr style=\"text-align: right;\">\n",
       "      <th>response</th>\n",
       "      <th>0</th>\n",
       "      <th>1</th>\n",
       "    </tr>\n",
       "    <tr>\n",
       "      <th>previously_insured</th>\n",
       "      <th></th>\n",
       "      <th></th>\n",
       "    </tr>\n",
       "  </thead>\n",
       "  <tbody>\n",
       "    <tr>\n",
       "      <th>0</th>\n",
       "      <td>159929</td>\n",
       "      <td>46552</td>\n",
       "    </tr>\n",
       "    <tr>\n",
       "      <th>1</th>\n",
       "      <td>174470</td>\n",
       "      <td>158</td>\n",
       "    </tr>\n",
       "  </tbody>\n",
       "</table>\n",
       "</div>"
      ],
      "text/plain": [
       "response                 0      1\n",
       "previously_insured               \n",
       "0                   159929  46552\n",
       "1                   174470    158"
      ]
     },
     "execution_count": 38,
     "metadata": {},
     "output_type": "execute_result"
    }
   ],
   "source": [
    "pd.crosstab( df4['previously_insured'], df4['response'] )"
   ]
  },
  {
   "cell_type": "code",
   "execution_count": 39,
   "metadata": {},
   "outputs": [
    {
     "data": {
      "text/html": [
       "<div>\n",
       "<style scoped>\n",
       "    .dataframe tbody tr th:only-of-type {\n",
       "        vertical-align: middle;\n",
       "    }\n",
       "\n",
       "    .dataframe tbody tr th {\n",
       "        vertical-align: top;\n",
       "    }\n",
       "\n",
       "    .dataframe thead th {\n",
       "        text-align: right;\n",
       "    }\n",
       "</style>\n",
       "<table border=\"1\" class=\"dataframe\">\n",
       "  <thead>\n",
       "    <tr style=\"text-align: right;\">\n",
       "      <th>response</th>\n",
       "      <th>0</th>\n",
       "      <th>1</th>\n",
       "    </tr>\n",
       "    <tr>\n",
       "      <th>previously_insured</th>\n",
       "      <th></th>\n",
       "      <th></th>\n",
       "    </tr>\n",
       "  </thead>\n",
       "  <tbody>\n",
       "    <tr>\n",
       "      <th>0</th>\n",
       "      <td>0.774546</td>\n",
       "      <td>0.225454</td>\n",
       "    </tr>\n",
       "    <tr>\n",
       "      <th>1</th>\n",
       "      <td>0.999095</td>\n",
       "      <td>0.000905</td>\n",
       "    </tr>\n",
       "  </tbody>\n",
       "</table>\n",
       "</div>"
      ],
      "text/plain": [
       "response                   0         1\n",
       "previously_insured                    \n",
       "0                   0.774546  0.225454\n",
       "1                   0.999095  0.000905"
      ]
     },
     "execution_count": 39,
     "metadata": {},
     "output_type": "execute_result"
    }
   ],
   "source": [
    "pd.crosstab( df4['previously_insured'], df4['response'] ).apply( lambda x: x / x.sum(), axis=1)"
   ]
  },
  {
   "cell_type": "code",
   "execution_count": 40,
   "metadata": {},
   "outputs": [
    {
     "data": {
      "text/html": [
       "<div>\n",
       "<style scoped>\n",
       "    .dataframe tbody tr th:only-of-type {\n",
       "        vertical-align: middle;\n",
       "    }\n",
       "\n",
       "    .dataframe tbody tr th {\n",
       "        vertical-align: top;\n",
       "    }\n",
       "\n",
       "    .dataframe thead th {\n",
       "        text-align: right;\n",
       "    }\n",
       "</style>\n",
       "<table border=\"1\" class=\"dataframe\">\n",
       "  <thead>\n",
       "    <tr style=\"text-align: right;\">\n",
       "      <th></th>\n",
       "      <th>vehicle_age</th>\n",
       "      <th>response</th>\n",
       "      <th>0</th>\n",
       "    </tr>\n",
       "  </thead>\n",
       "  <tbody>\n",
       "    <tr>\n",
       "      <th>0</th>\n",
       "      <td>between_1_2_year</td>\n",
       "      <td>0</td>\n",
       "      <td>0.434285</td>\n",
       "    </tr>\n",
       "    <tr>\n",
       "      <th>1</th>\n",
       "      <td>below_1_year</td>\n",
       "      <td>0</td>\n",
       "      <td>0.413488</td>\n",
       "    </tr>\n",
       "    <tr>\n",
       "      <th>2</th>\n",
       "      <td>between_1_2_year</td>\n",
       "      <td>1</td>\n",
       "      <td>0.091328</td>\n",
       "    </tr>\n",
       "    <tr>\n",
       "      <th>3</th>\n",
       "      <td>over_2_years</td>\n",
       "      <td>0</td>\n",
       "      <td>0.029663</td>\n",
       "    </tr>\n",
       "    <tr>\n",
       "      <th>4</th>\n",
       "      <td>below_1_year</td>\n",
       "      <td>1</td>\n",
       "      <td>0.018897</td>\n",
       "    </tr>\n",
       "    <tr>\n",
       "      <th>5</th>\n",
       "      <td>over_2_years</td>\n",
       "      <td>1</td>\n",
       "      <td>0.012338</td>\n",
       "    </tr>\n",
       "  </tbody>\n",
       "</table>\n",
       "</div>"
      ],
      "text/plain": [
       "        vehicle_age  response         0\n",
       "0  between_1_2_year         0  0.434285\n",
       "1      below_1_year         0  0.413488\n",
       "2  between_1_2_year         1  0.091328\n",
       "3      over_2_years         0  0.029663\n",
       "4      below_1_year         1  0.018897\n",
       "5      over_2_years         1  0.012338"
      ]
     },
     "execution_count": 40,
     "metadata": {},
     "output_type": "execute_result"
    }
   ],
   "source": [
    "#vehicle_age\n",
    "df4[['vehicle_age' ,'response']].value_counts( normalize=True ).reset_index()"
   ]
  },
  {
   "cell_type": "code",
   "execution_count": 41,
   "metadata": {},
   "outputs": [
    {
     "data": {
      "image/png": "[encoded data removed]",
      "text/plain": [
       "<Figure size 432x288 with 1 Axes>"
      ]
     },
     "metadata": {
      "needs_background": "light"
     },
     "output_type": "display_data"
    }
   ],
   "source": [
    "#policy_sales_channel\n",
    "aux = df4[['policy_sales_channel', 'response']].groupby( 'policy_sales_channel').sum().reset_index()\n",
    "sns.barplot( x='response', y='policy_sales_channel', data=aux); "
   ]
  },
  {
   "cell_type": "code",
   "execution_count": 42,
   "metadata": {},
   "outputs": [
    {
     "data": {
      "image/png": "[encoded data removed]",
      "text/plain": [
       "<Figure size 432x288 with 1 Axes>"
      ]
     },
     "metadata": {
      "needs_background": "light"
     },
     "output_type": "display_data"
    }
   ],
   "source": [
    "#vehicle_damage\n",
    "aux = df4[['vehicle_damage', 'response']].groupby( 'vehicle_damage').sum().reset_index()\n",
    "sns.barplot( x='response', y='vehicle_damage', data=aux); "
   ]
  },
  {
   "cell_type": "code",
   "execution_count": 43,
   "metadata": {},
   "outputs": [
    {
     "data": {
      "image/png": "[encoded data removed]",
      "text/plain": [
       "<Figure size 432x288 with 1 Axes>"
      ]
     },
     "metadata": {
      "needs_background": "light"
     },
     "output_type": "display_data"
    }
   ],
   "source": [
    "#vintage\n",
    "aux = df4[['vintage', 'response']].groupby( 'vintage').sum().reset_index()\n",
    "sns.barplot( x='response', y='vintage', data=aux); "
   ]
  },
  {
   "cell_type": "code",
   "execution_count": 44,
   "metadata": {},
   "outputs": [
    {
     "data": {
      "image/png": "[encoded data removed]",
      "text/plain": [
       "<Figure size 432x288 with 3 Axes>"
      ]
     },
     "metadata": {
      "needs_background": "light"
     },
     "output_type": "display_data"
    }
   ],
   "source": [
    "plt.subplot( 2, 1, 1)\n",
    "sns.boxplot( x='response', y='vintage', data=df4)\n",
    "\n",
    "plt.subplot( 2, 2, 3)\n",
    "aux1 = df4.loc[df4['response'] == 0, 'vintage']\n",
    "sns.histplot( aux1 )\n",
    "\n",
    "plt.subplot( 2, 2, 4)\n",
    "aux2= df4.loc[df4['response'] == 1, 'vintage']\n",
    "sns.histplot( aux2 );"
   ]
  },
  {
   "cell_type": "code",
   "execution_count": 45,
   "metadata": {},
   "outputs": [
    {
     "data": {
      "image/png": "[encoded data removed]",
      "text/plain": [
       "<Figure size 432x288 with 3 Axes>"
      ]
     },
     "metadata": {
      "needs_background": "light"
     },
     "output_type": "display_data"
    }
   ],
   "source": [
    "#gender\n",
    "plt.subplot( 2, 1, 1)\n",
    "sns.boxplot( x='response', y='gender', data=df4)\n",
    "\n",
    "plt.subplot( 2, 2, 3)\n",
    "aux1 = df4.loc[df4['response'] == 0, 'gender']\n",
    "sns.histplot( aux1 )\n",
    "\n",
    "plt.subplot( 2, 2, 4)\n",
    "aux2= df4.loc[df4['response'] == 1, 'gender']\n",
    "sns.histplot( aux2 );"
   ]
  },
  {
   "cell_type": "code",
   "execution_count": 46,
   "metadata": {},
   "outputs": [
    {
     "data": {
      "image/png": "[encoded data removed]",
      "text/plain": [
       "<Figure size 432x288 with 1 Axes>"
      ]
     },
     "metadata": {
      "needs_background": "light"
     },
     "output_type": "display_data"
    }
   ],
   "source": [
    "aux = df4[['gender', 'response']].groupby('gender').count().reset_index()\n",
    "sns.barplot( x='gender', y='response', data=aux); "
   ]
  },
  {
   "cell_type": "markdown",
   "metadata": {},
   "source": [
    "# 5.0. DATA PREPARATION"
   ]
  },
  {
   "cell_type": "code",
   "execution_count": 47,
   "metadata": {},
   "outputs": [],
   "source": [
    "df5 = df4.copy()"
   ]
  },
  {
   "cell_type": "markdown",
   "metadata": {},
   "source": [
    "### Data  Split Train / Teste"
   ]
  },
  {
   "cell_type": "code",
   "execution_count": 48,
   "metadata": {},
   "outputs": [],
   "source": [
    "X = df4.drop( 'response', axis=1 )\n",
    "y = df4['response'].copy()\n",
    "\n",
    "x_train, x_validation, y_train, y_validation = ms.train_test_split( X, y, test_size=0.20 )\n",
    "\n",
    "df5 = pd.concat( [x_train, y_train], axis=1 )"
   ]
  },
  {
   "cell_type": "markdown",
   "metadata": {},
   "source": [
    "## 5.1. Standardization"
   ]
  },
  {
   "cell_type": "code",
   "execution_count": 49,
   "metadata": {},
   "outputs": [],
   "source": [
    "ss = pp.StandardScaler()\n",
    "\n",
    "# annual_premium|\n",
    "df5['annual_premium'] = ss.fit_transform( df5[['annual_premium']].values ) # dois colchetes pois é necessário um array para o correto funciomanento dos Encoders\n",
    "pickle.dump( ss, open( '/Users/thiago/Thiago/Data_Science/comunidade_ds/health_insurance/src/features/annual_premium_scaler.pkl', 'wb' ) )"
   ]
  },
  {
   "cell_type": "markdown",
   "metadata": {},
   "source": [
    "## 5.2. Rescaling"
   ]
  },
  {
   "cell_type": "code",
   "execution_count": 50,
   "metadata": {},
   "outputs": [],
   "source": [
    "mms_age = pp.MinMaxScaler()\n",
    "mms_vintage= pp.MinMaxScaler()\n",
    "\n",
    "# age\n",
    "df5['age'] = mms_age.fit_transform( df5[['age']].values )\n",
    "pickle.dump( mms_age, open( '/Users/thiago/Thiago/Data_Science/comunidade_ds/health_insurance/src/features/age_scaler.pkl', 'wb' ) )\n",
    "\n",
    "# vintage\n",
    "df5['vintage'] = mms_vintage.fit_transform( df5[['vintage']].values )\n",
    "pickle.dump( mms_vintage, open( '/Users/thiago/Thiago/Data_Science/comunidade_ds/health_insurance/src/features/vintage_scaler.pkl', 'wb' ) )"
   ]
  },
  {
   "cell_type": "markdown",
   "metadata": {},
   "source": [
    "## 5.3. Transformation"
   ]
  },
  {
   "cell_type": "markdown",
   "metadata": {},
   "source": [
    "## 5.3.1 Encoding"
   ]
  },
  {
   "cell_type": "code",
   "execution_count": 51,
   "metadata": {},
   "outputs": [
    {
     "data": {
      "text/plain": [
       "array([30., 33., 50., 46., 41., 10., 28.,  6., 11., 47.,  1., 13., 35.,\n",
       "       37., 25.,  8., 15., 39.,  7., 14., 24.,  0., 29., 45., 18., 36.,\n",
       "       27.,  9., 21., 12., 19., 23.,  3.,  2., 31., 32., 48., 49.,  5.,\n",
       "       16., 34., 43., 17., 20., 42., 44., 38., 51., 22., 26., 40.,  4.,\n",
       "       52.])"
      ]
     },
     "execution_count": 51,
     "metadata": {},
     "output_type": "execute_result"
    }
   ],
   "source": [
    "df5['region_code'].unique() # alto número de variáveis, não recomendado usar o One Hot Encoding, pois vai complicar demais e requer uma quantidade maior de dados"
   ]
  },
  {
   "cell_type": "code",
   "execution_count": 52,
   "metadata": {},
   "outputs": [],
   "source": [
    "# driving_license / vehicle_damage / driving_license - Ja estão 0 e 1 ( Label Encoding )\n",
    "\n",
    "# gender\n",
    "target_encode_gender = df5.groupby( 'gender' )['response'].mean()\n",
    "df5.loc[:, 'gender'] = df5['gender'].map( target_encode_gender )\n",
    "pickle.dump( target_encode_gender, open( '/Users/thiago/Thiago/Data_Science/comunidade_ds/health_insurance/src/features/target_encode_gender_scaler.pkl', 'wb' ) )\n",
    "\n",
    "# region_code - Frequency Encoding / Target Encoding / Weight Target Encoding\n",
    "target_encode_region_code = df5.groupby( 'region_code' )['response'].mean()\n",
    "df5.loc[:, 'region_code'] = df5['region_code'].map( target_encode_region_code )\n",
    "pickle.dump( target_encode_region_code, open( '/Users/thiago/Thiago/Data_Science/comunidade_ds/health_insurance/src/features/target_encode_region_code_scaler.pkl', 'wb' ) )\n",
    "\n",
    "# vehicle_age - One Hot Encoding / Order Encoding / Frequency Encoding\n",
    "df5 = pd.get_dummies( df5, prefix='vehicle_age', columns=['vehicle_age'] )\n",
    "\n",
    "# policy_sales_channel - Target Encoding / Frequency Encoding\n",
    "fe_policy_sales_channel = df5.groupby( 'policy_sales_channel' ).size() / len( df5 )\n",
    "df5.loc[:, 'policy_sales_channel'] = df5['policy_sales_channel'].map( fe_policy_sales_channel )\n",
    "pickle.dump( fe_policy_sales_channel, open( '/Users/thiago/Thiago/Data_Science/comunidade_ds/health_insurance/src/features/fe_policy_sales_channel_scaler.pkl', 'wb' ) )"
   ]
  },
  {
   "cell_type": "markdown",
   "metadata": {},
   "source": [
    "## 5.4 Validation Preparation"
   ]
  },
  {
   "cell_type": "code",
   "execution_count": 53,
   "metadata": {},
   "outputs": [
    {
     "data": {
      "text/html": [
       "<div>\n",
       "<style scoped>\n",
       "    .dataframe tbody tr th:only-of-type {\n",
       "        vertical-align: middle;\n",
       "    }\n",
       "\n",
       "    .dataframe tbody tr th {\n",
       "        vertical-align: top;\n",
       "    }\n",
       "\n",
       "    .dataframe thead th {\n",
       "        text-align: right;\n",
       "    }\n",
       "</style>\n",
       "<table border=\"1\" class=\"dataframe\">\n",
       "  <thead>\n",
       "    <tr style=\"text-align: right;\">\n",
       "      <th></th>\n",
       "      <th>id</th>\n",
       "      <th>gender</th>\n",
       "      <th>age</th>\n",
       "      <th>driving_license</th>\n",
       "      <th>region_code</th>\n",
       "      <th>previously_insured</th>\n",
       "      <th>vehicle_age</th>\n",
       "      <th>vehicle_damage</th>\n",
       "      <th>annual_premium</th>\n",
       "      <th>policy_sales_channel</th>\n",
       "      <th>vintage</th>\n",
       "    </tr>\n",
       "  </thead>\n",
       "  <tbody>\n",
       "    <tr>\n",
       "      <th>348444</th>\n",
       "      <td>348445</td>\n",
       "      <td>Male</td>\n",
       "      <td>24</td>\n",
       "      <td>1</td>\n",
       "      <td>28.0</td>\n",
       "      <td>0</td>\n",
       "      <td>below_1_year</td>\n",
       "      <td>1</td>\n",
       "      <td>29692.0</td>\n",
       "      <td>124.0</td>\n",
       "      <td>74</td>\n",
       "    </tr>\n",
       "    <tr>\n",
       "      <th>236400</th>\n",
       "      <td>236401</td>\n",
       "      <td>Male</td>\n",
       "      <td>55</td>\n",
       "      <td>1</td>\n",
       "      <td>28.0</td>\n",
       "      <td>0</td>\n",
       "      <td>over_2_years</td>\n",
       "      <td>1</td>\n",
       "      <td>28374.0</td>\n",
       "      <td>26.0</td>\n",
       "      <td>111</td>\n",
       "    </tr>\n",
       "    <tr>\n",
       "      <th>186920</th>\n",
       "      <td>186921</td>\n",
       "      <td>Male</td>\n",
       "      <td>43</td>\n",
       "      <td>1</td>\n",
       "      <td>46.0</td>\n",
       "      <td>0</td>\n",
       "      <td>between_1_2_year</td>\n",
       "      <td>1</td>\n",
       "      <td>22053.0</td>\n",
       "      <td>156.0</td>\n",
       "      <td>274</td>\n",
       "    </tr>\n",
       "    <tr>\n",
       "      <th>47701</th>\n",
       "      <td>47702</td>\n",
       "      <td>Male</td>\n",
       "      <td>42</td>\n",
       "      <td>1</td>\n",
       "      <td>4.0</td>\n",
       "      <td>1</td>\n",
       "      <td>between_1_2_year</td>\n",
       "      <td>1</td>\n",
       "      <td>2630.0</td>\n",
       "      <td>157.0</td>\n",
       "      <td>223</td>\n",
       "    </tr>\n",
       "    <tr>\n",
       "      <th>366415</th>\n",
       "      <td>366416</td>\n",
       "      <td>Male</td>\n",
       "      <td>61</td>\n",
       "      <td>1</td>\n",
       "      <td>1.0</td>\n",
       "      <td>1</td>\n",
       "      <td>between_1_2_year</td>\n",
       "      <td>0</td>\n",
       "      <td>2630.0</td>\n",
       "      <td>26.0</td>\n",
       "      <td>106</td>\n",
       "    </tr>\n",
       "  </tbody>\n",
       "</table>\n",
       "</div>"
      ],
      "text/plain": [
       "            id gender  age  driving_license  region_code  previously_insured  \\\n",
       "348444  348445   Male   24                1         28.0                   0   \n",
       "236400  236401   Male   55                1         28.0                   0   \n",
       "186920  186921   Male   43                1         46.0                   0   \n",
       "47701    47702   Male   42                1          4.0                   1   \n",
       "366415  366416   Male   61                1          1.0                   1   \n",
       "\n",
       "             vehicle_age  vehicle_damage  annual_premium  \\\n",
       "348444      below_1_year               1         29692.0   \n",
       "236400      over_2_years               1         28374.0   \n",
       "186920  between_1_2_year               1         22053.0   \n",
       "47701   between_1_2_year               1          2630.0   \n",
       "366415  between_1_2_year               0          2630.0   \n",
       "\n",
       "        policy_sales_channel  vintage  \n",
       "348444                 124.0       74  \n",
       "236400                  26.0      111  \n",
       "186920                 156.0      274  \n",
       "47701                  157.0      223  \n",
       "366415                  26.0      106  "
      ]
     },
     "execution_count": 53,
     "metadata": {},
     "output_type": "execute_result"
    }
   ],
   "source": [
    "x_validation.head()"
   ]
  },
  {
   "cell_type": "code",
   "execution_count": 54,
   "metadata": {},
   "outputs": [],
   "source": [
    "# gender\n",
    "x_validation.loc[:, 'gender'] = x_validation.loc[:, 'gender'].map( target_encode_gender )\n",
    "\n",
    "# age\n",
    "x_validation.loc[:, 'age'] = mms_age.transform( x_validation[['age']].values )\n",
    "\n",
    "# region code\n",
    "x_validation.loc[:, 'region_code'] = x_validation.loc[:, 'region_code'].map( target_encode_region_code )\n",
    "\n",
    "# vehicle age\n",
    "x_validation = pd.get_dummies( x_validation, prefix='vehicle_age', columns=['vehicle_age'] )\n",
    "\n",
    "# annual premium\n",
    "x_validation.loc[:, 'annual_premium'] = ss.transform( x_validation[['annual_premium']].values )\n",
    "\n",
    "# policy sales channel\n",
    "x_validation.loc[:, 'policy_sales_channel'] = x_validation['policy_sales_channel'].map( fe_policy_sales_channel )\n",
    "\n",
    "# vintage\n",
    "x_validation.loc[:, 'vintage'] = mms_vintage.transform( x_validation[['vintage']].values )\n",
    "\n",
    "# fillna\n",
    "x_validation = x_validation.fillna( 0 )"
   ]
  },
  {
   "cell_type": "markdown",
   "metadata": {},
   "source": [
    "# 6.0. FEATURE SELECTION"
   ]
  },
  {
   "cell_type": "markdown",
   "metadata": {},
   "source": [
    "## 6.2 Features Importance"
   ]
  },
  {
   "cell_type": "code",
   "execution_count": 55,
   "metadata": {},
   "outputs": [
    {
     "data": {
      "text/html": [
       "<style>#sk-container-id-1 {color: black;background-color: white;}#sk-container-id-1 pre{padding: 0;}#sk-container-id-1 div.sk-toggleable {background-color: white;}#sk-container-id-1 label.sk-toggleable__label {cursor: pointer;display: block;width: 100%;margin-bottom: 0;padding: 0.3em;box-sizing: border-box;text-align: center;}#sk-container-id-1 label.sk-toggleable__label-arrow:before {content: \"▸\";float: left;margin-right: 0.25em;color: #696969;}#sk-container-id-1 label.sk-toggleable__label-arrow:hover:before {color: black;}#sk-container-id-1 div.sk-estimator:hover label.sk-toggleable__label-arrow:before {color: black;}#sk-container-id-1 div.sk-toggleable__content {max-height: 0;max-width: 0;overflow: hidden;text-align: left;background-color: #f0f8ff;}#sk-container-id-1 div.sk-toggleable__content pre {margin: 0.2em;color: black;border-radius: 0.25em;background-color: #f0f8ff;}#sk-container-id-1 input.sk-toggleable__control:checked~div.sk-toggleable__content {max-height: 200px;max-width: 100%;overflow: auto;}#sk-container-id-1 input.sk-toggleable__control:checked~label.sk-toggleable__label-arrow:before {content: \"▾\";}#sk-container-id-1 div.sk-estimator input.sk-toggleable__control:checked~label.sk-toggleable__label {background-color: #d4ebff;}#sk-container-id-1 div.sk-label input.sk-toggleable__control:checked~label.sk-toggleable__label {background-color: #d4ebff;}#sk-container-id-1 input.sk-hidden--visually {border: 0;clip: rect(1px 1px 1px 1px);clip: rect(1px, 1px, 1px, 1px);height: 1px;margin: -1px;overflow: hidden;padding: 0;position: absolute;width: 1px;}#sk-container-id-1 div.sk-estimator {font-family: monospace;background-color: #f0f8ff;border: 1px dotted black;border-radius: 0.25em;box-sizing: border-box;margin-bottom: 0.5em;}#sk-container-id-1 div.sk-estimator:hover {background-color: #d4ebff;}#sk-container-id-1 div.sk-parallel-item::after {content: \"\";width: 100%;border-bottom: 1px solid gray;flex-grow: 1;}#sk-container-id-1 div.sk-label:hover label.sk-toggleable__label {background-color: #d4ebff;}#sk-container-id-1 div.sk-serial::before {content: \"\";position: absolute;border-left: 1px solid gray;box-sizing: border-box;top: 0;bottom: 0;left: 50%;z-index: 0;}#sk-container-id-1 div.sk-serial {display: flex;flex-direction: column;align-items: center;background-color: white;padding-right: 0.2em;padding-left: 0.2em;position: relative;}#sk-container-id-1 div.sk-item {position: relative;z-index: 1;}#sk-container-id-1 div.sk-parallel {display: flex;align-items: stretch;justify-content: center;background-color: white;position: relative;}#sk-container-id-1 div.sk-item::before, #sk-container-id-1 div.sk-parallel-item::before {content: \"\";position: absolute;border-left: 1px solid gray;box-sizing: border-box;top: 0;bottom: 0;left: 50%;z-index: -1;}#sk-container-id-1 div.sk-parallel-item {display: flex;flex-direction: column;z-index: 1;position: relative;background-color: white;}#sk-container-id-1 div.sk-parallel-item:first-child::after {align-self: flex-end;width: 50%;}#sk-container-id-1 div.sk-parallel-item:last-child::after {align-self: flex-start;width: 50%;}#sk-container-id-1 div.sk-parallel-item:only-child::after {width: 0;}#sk-container-id-1 div.sk-dashed-wrapped {border: 1px dashed gray;margin: 0 0.4em 0.5em 0.4em;box-sizing: border-box;padding-bottom: 0.4em;background-color: white;}#sk-container-id-1 div.sk-label label {font-family: monospace;font-weight: bold;display: inline-block;line-height: 1.2em;}#sk-container-id-1 div.sk-label-container {text-align: center;}#sk-container-id-1 div.sk-container {/* jupyter's `normalize.less` sets `[hidden] { display: none; }` but bootstrap.min.css set `[hidden] { display: none !important; }` so we also need the `!important` here to be able to override the default hidden behavior on the sphinx rendered scikit-learn.org. See: https://github.com/scikit-learn/scikit-learn/issues/21755 */display: inline-block !important;position: relative;}#sk-container-id-1 div.sk-text-repr-fallback {display: none;}</style><div id=\"sk-container-id-1\" class=\"sk-top-container\"><div class=\"sk-text-repr-fallback\"><pre>ExtraTreesClassifier(n_estimators=250, n_jobs=-1, random_state=0)</pre><b>In a Jupyter environment, please rerun this cell to show the HTML representation or trust the notebook. <br />On GitHub, the HTML representation is unable to render, please try loading this page with nbviewer.org.</b></div><div class=\"sk-container\" hidden><div class=\"sk-item\"><div class=\"sk-estimator sk-toggleable\"><input class=\"sk-toggleable__control sk-hidden--visually\" id=\"sk-estimator-id-1\" type=\"checkbox\" checked><label for=\"sk-estimator-id-1\" class=\"sk-toggleable__label sk-toggleable__label-arrow\">ExtraTreesClassifier</label><div class=\"sk-toggleable__content\"><pre>ExtraTreesClassifier(n_estimators=250, n_jobs=-1, random_state=0)</pre></div></div></div></div></div>"
      ],
      "text/plain": [
       "ExtraTreesClassifier(n_estimators=250, n_jobs=-1, random_state=0)"
      ]
     },
     "execution_count": 55,
     "metadata": {},
     "output_type": "execute_result"
    }
   ],
   "source": [
    "# model definition\n",
    "forest = en.ExtraTreesClassifier( n_estimators=250, random_state=0, n_jobs=-1 )\n",
    "\n",
    "# data preaparation\n",
    "x_train_n = df5.drop( ['id', 'response'], axis=1 )\n",
    "y_train_n = y_train.values\n",
    "forest.fit( x_train_n, y_train_n )"
   ]
  },
  {
   "cell_type": "code",
   "execution_count": 56,
   "metadata": {},
   "outputs": [
    {
     "name": "stdout",
     "output_type": "stream",
     "text": [
      "Feature ranking:\n",
      "                        feature  importance\n",
      "0                       vintage    0.271580\n",
      "0                annual_premium    0.244079\n",
      "0                           age    0.166739\n",
      "0                   region_code    0.105395\n",
      "0                vehicle_damage    0.067853\n",
      "0          policy_sales_channel    0.060306\n",
      "0            previously_insured    0.056906\n",
      "0      vehicle_age_below_1_year    0.013336\n",
      "0  vehicle_age_between_1_2_year    0.006356\n",
      "0                        gender    0.004685\n",
      "0      vehicle_age_over_2_years    0.002267\n",
      "0               driving_license    0.000500\n"
     ]
    },
    {
     "data": {
      "image/png": "[encoded data removed]",
      "text/plain": [
       "<Figure size 432x288 with 1 Axes>"
      ]
     },
     "metadata": {
      "needs_background": "light"
     },
     "output_type": "display_data"
    }
   ],
   "source": [
    "importances = forest.feature_importances_\n",
    "std = np.std([tree.feature_importances_ for tree in forest.estimators_], axis=0 )\n",
    "indices = np.argsort(importances)[::-1]\n",
    "\n",
    "# Print the Feature Ranking\n",
    "print(\"Feature ranking:\")\n",
    "df = pd.DataFrame()\n",
    "for i, j in zip( x_train_n, forest.feature_importances_ ):\n",
    "    aux = pd.DataFrame( {'feature': i, 'importance': j}, index=[0] )\n",
    "    df = pd.concat( [ df, aux], axis=0 )\n",
    "\n",
    "print( df.sort_values( 'importance', ascending=False ) )\n",
    "\n",
    "# Plot the impurity-based feature importances of the forest\n",
    "plt.figure()\n",
    "plt.title( \"Feature Importances\" )\n",
    "plt.bar(range(x_train_n.shape[1]), importances[indices], color=\"r\", yerr=std[indices], align=\"center\" )\n",
    "plt.xticks(range(x_train_n.shape[1]), indices)\n",
    "plt.xlim([-1, x_train_n.shape[1]])\n",
    "plt.show()"
   ]
  },
  {
   "cell_type": "markdown",
   "metadata": {},
   "source": [
    "# 7.0. MACHINE LEARNING MODELLING"
   ]
  },
  {
   "cell_type": "code",
   "execution_count": 57,
   "metadata": {},
   "outputs": [],
   "source": [
    "cols_selected = ['annual_premium', 'vintage', 'age', 'region_code', 'vehicle_damage', 'previously_insured', 'policy_sales_channel']\n",
    "\n",
    "x_train = df5[ cols_selected ]\n",
    "x_val = x_validation[ cols_selected ]\n",
    "y_val = y_validation.copy()"
   ]
  },
  {
   "cell_type": "markdown",
   "metadata": {},
   "source": [
    "## 7.1. KNN"
   ]
  },
  {
   "cell_type": "code",
   "execution_count": 137,
   "metadata": {},
   "outputs": [
    {
     "data": {
      "image/png": "[encoded data removed]",
      "text/plain": [
       "<Figure size 864x432 with 2 Axes>"
      ]
     },
     "metadata": {},
     "output_type": "display_data"
    }
   ],
   "source": [
    "# model definition\n",
    "knn_model = nh.KNeighborsClassifier( n_neighbors=20 )\n",
    "\n",
    "# model training\n",
    "knn_model.fit( x_train, y_train )\n",
    "\n",
    "# model prediction - Generalization Power\n",
    "yhat_knn = knn_model.predict_proba( x_val )\n",
    "\n",
    "fig, axs = plt.subplots( ncols=2, figsize= (12,6) )\n",
    "# Acummulative Gain\n",
    "skplt.metrics.plot_cumulative_gain( y_val, yhat_knn, ax=axs[0], title='Cumulative Gain KNN Classifier');\n",
    "# Scikitplot library\n",
    "skplt.metrics.plot_lift_curve( y_val, yhat_knn, ax=axs[1], title='Lift Curve KNN Classifier' );"
   ]
  },
  {
   "cell_type": "code",
   "execution_count": 138,
   "metadata": {},
   "outputs": [
    {
     "name": "stdout",
     "output_type": "stream",
     "text": [
      "Precision at k: 0.32\n",
      "Recall at k: 0.523\n"
     ]
    }
   ],
   "source": [
    "x_validation['response'] = y_validation\n",
    "precision_knn = round( precision_at_k( x_validation, yhat_knn, 0.20), 3)\n",
    "recall_knn = round( recall_at_k( x_validation, yhat_knn, 0.20), 3)\n",
    "\n",
    "print( \"Precision at k: {}\".format( precision_knn ) )\n",
    "print( \"Recall at k: {}\".format( recall_knn ) )"
   ]
  },
  {
   "cell_type": "code",
   "execution_count": 148,
   "metadata": {},
   "outputs": [
    {
     "name": "stderr",
     "output_type": "stream",
     "text": [
      "/var/folders/w5/0w2xv4r95g1gfgbzpp2dm6gr0000gn/T/ipykernel_1400/3863666871.py:1: FutureWarning: The frame.append method is deprecated and will be removed from pandas in a future version. Use pandas.concat instead.\n",
      "  models_performance = models_performance.append( pd.Series( [ 'KNN Classifier', precision_knn, recall_knn], index=models_performance.columns ), ignore_index = True )\n"
     ]
    },
    {
     "data": {
      "text/html": [
       "<div>\n",
       "<style scoped>\n",
       "    .dataframe tbody tr th:only-of-type {\n",
       "        vertical-align: middle;\n",
       "    }\n",
       "\n",
       "    .dataframe tbody tr th {\n",
       "        vertical-align: top;\n",
       "    }\n",
       "\n",
       "    .dataframe thead th {\n",
       "        text-align: right;\n",
       "    }\n",
       "</style>\n",
       "<table border=\"1\" class=\"dataframe\">\n",
       "  <thead>\n",
       "    <tr style=\"text-align: right;\">\n",
       "      <th></th>\n",
       "      <th>Model</th>\n",
       "      <th>Precision_at_k</th>\n",
       "      <th>Recall_at_k</th>\n",
       "    </tr>\n",
       "  </thead>\n",
       "  <tbody>\n",
       "    <tr>\n",
       "      <th>0</th>\n",
       "      <td>KNN Classifier</td>\n",
       "      <td>0.32</td>\n",
       "      <td>0.523</td>\n",
       "    </tr>\n",
       "  </tbody>\n",
       "</table>\n",
       "</div>"
      ],
      "text/plain": [
       "            Model  Precision_at_k  Recall_at_k\n",
       "0  KNN Classifier            0.32        0.523"
      ]
     },
     "execution_count": 148,
     "metadata": {},
     "output_type": "execute_result"
    }
   ],
   "source": [
    "models_performance = models_performance.append( pd.Series( [ 'KNN Classifier', precision_knn, recall_knn], index=models_performance.columns ), ignore_index = True )\n",
    "models_performance"
   ]
  },
  {
   "cell_type": "markdown",
   "metadata": {},
   "source": [
    "## 7.2. Logistic Regression"
   ]
  },
  {
   "cell_type": "code",
   "execution_count": 149,
   "metadata": {},
   "outputs": [
    {
     "data": {
      "image/png": "[encoded data removed]",
      "text/plain": [
       "<Figure size 864x432 with 2 Axes>"
      ]
     },
     "metadata": {},
     "output_type": "display_data"
    }
   ],
   "source": [
    "# model definition\n",
    "lr_model = lm.LogisticRegression( random_state=42 )\n",
    "\n",
    "# model training\n",
    "lr_model.fit( x_train, y_train )\n",
    "\n",
    "# model_prediction\n",
    "yhat_lr = lr_model.predict_proba( x_val )\n",
    "\n",
    "\n",
    "fig, axs = plt.subplots( ncols=2, figsize= (12,6) )\n",
    "# Acummulative Gain\n",
    "skplt.metrics.plot_cumulative_gain( y_val, yhat_lr, ax=axs[0], title='Cumulative Gain Logistic Regression Classifier');\n",
    "# Scikitplot library\n",
    "skplt.metrics.plot_lift_curve( y_val, yhat_lr, ax=axs[1], title='Lift Curve Logistc Regression Classifier' );"
   ]
  },
  {
   "cell_type": "code",
   "execution_count": 150,
   "metadata": {},
   "outputs": [
    {
     "name": "stdout",
     "output_type": "stream",
     "text": [
      "Precision at k: 0.291\n",
      "Recall at k: 0.476\n"
     ]
    }
   ],
   "source": [
    "x_validation['response'] = y_validation\n",
    "precision_lr = round( precision_at_k( x_validation, yhat_lr, 0.20), 3)\n",
    "recall_lr = round( recall_at_k( x_validation, yhat_lr, 0.20), 3)\n",
    "\n",
    "print( \"Precision at k: {}\".format( precision_lr ) )\n",
    "print( \"Recall at k: {}\".format( recall_lr ) )"
   ]
  },
  {
   "cell_type": "code",
   "execution_count": 151,
   "metadata": {},
   "outputs": [
    {
     "name": "stderr",
     "output_type": "stream",
     "text": [
      "/var/folders/w5/0w2xv4r95g1gfgbzpp2dm6gr0000gn/T/ipykernel_1400/134888425.py:1: FutureWarning: The frame.append method is deprecated and will be removed from pandas in a future version. Use pandas.concat instead.\n",
      "  models_performance = models_performance.append( pd.Series( [ 'Logistic Regressor Classifier', precision_lr, recall_lr], index=models_performance.columns ), ignore_index = True )\n"
     ]
    },
    {
     "data": {
      "text/html": [
       "<div>\n",
       "<style scoped>\n",
       "    .dataframe tbody tr th:only-of-type {\n",
       "        vertical-align: middle;\n",
       "    }\n",
       "\n",
       "    .dataframe tbody tr th {\n",
       "        vertical-align: top;\n",
       "    }\n",
       "\n",
       "    .dataframe thead th {\n",
       "        text-align: right;\n",
       "    }\n",
       "</style>\n",
       "<table border=\"1\" class=\"dataframe\">\n",
       "  <thead>\n",
       "    <tr style=\"text-align: right;\">\n",
       "      <th></th>\n",
       "      <th>Model</th>\n",
       "      <th>Precision_at_k</th>\n",
       "      <th>Recall_at_k</th>\n",
       "    </tr>\n",
       "  </thead>\n",
       "  <tbody>\n",
       "    <tr>\n",
       "      <th>0</th>\n",
       "      <td>KNN Classifier</td>\n",
       "      <td>0.320</td>\n",
       "      <td>0.523</td>\n",
       "    </tr>\n",
       "    <tr>\n",
       "      <th>1</th>\n",
       "      <td>Logistic Regressor Classifier</td>\n",
       "      <td>0.291</td>\n",
       "      <td>0.476</td>\n",
       "    </tr>\n",
       "  </tbody>\n",
       "</table>\n",
       "</div>"
      ],
      "text/plain": [
       "                           Model  Precision_at_k  Recall_at_k\n",
       "0                 KNN Classifier           0.320        0.523\n",
       "1  Logistic Regressor Classifier           0.291        0.476"
      ]
     },
     "execution_count": 151,
     "metadata": {},
     "output_type": "execute_result"
    }
   ],
   "source": [
    "models_performance = models_performance.append( pd.Series( [ 'Logistic Regressor Classifier', precision_lr, recall_lr], index=models_performance.columns ), ignore_index = True )\n",
    "models_performance"
   ]
  },
  {
   "cell_type": "markdown",
   "metadata": {},
   "source": [
    "## 7.3. Random Forest Classifier"
   ]
  },
  {
   "cell_type": "code",
   "execution_count": 153,
   "metadata": {},
   "outputs": [
    {
     "data": {
      "image/png": "[encoded data removed]",
      "text/plain": [
       "<Figure size 864x432 with 2 Axes>"
      ]
     },
     "metadata": {},
     "output_type": "display_data"
    }
   ],
   "source": [
    "# model\n",
    "rf_model = RandomForestClassifier( n_estimators=100, n_jobs=-1, random_state=42 ).fit( x_train, y_train )\n",
    "\n",
    "# model training\n",
    "rf_model.fit( x_train, y_train )\n",
    "\n",
    "# model_prediction\n",
    "yhat_rf = rf_model.predict_proba( x_val )\n",
    "\n",
    "fig, axs = plt.subplots( ncols=2, figsize= (12,6) )\n",
    "# Acummulative Gain\n",
    "skplt.metrics.plot_cumulative_gain( y_val, yhat_rf, ax=axs[0], title='Random Forest Classifier');\n",
    "# Scikitplot library\n",
    "skplt.metrics.plot_lift_curve( y_val, yhat_rf, ax=axs[1], title='Random Forest Classifier' );"
   ]
  },
  {
   "cell_type": "code",
   "execution_count": 154,
   "metadata": {},
   "outputs": [
    {
     "name": "stdout",
     "output_type": "stream",
     "text": [
      "Precision at k: 0.319\n",
      "Recall at k: 0.522\n"
     ]
    }
   ],
   "source": [
    "x_validation['response'] = y_validation\n",
    "precision_rf = round( precision_at_k( x_validation, yhat_rf, 0.20), 3)\n",
    "recall_rf = round( recall_at_k( x_validation, yhat_rf, 0.20), 3)\n",
    "\n",
    "print( \"Precision at k: {}\".format( precision_rf ) )\n",
    "print( \"Recall at k: {}\".format( recall_rf ) )"
   ]
  },
  {
   "cell_type": "code",
   "execution_count": 155,
   "metadata": {},
   "outputs": [
    {
     "name": "stderr",
     "output_type": "stream",
     "text": [
      "/var/folders/w5/0w2xv4r95g1gfgbzpp2dm6gr0000gn/T/ipykernel_1400/349241368.py:1: FutureWarning: The frame.append method is deprecated and will be removed from pandas in a future version. Use pandas.concat instead.\n",
      "  models_performance = models_performance.append( pd.Series( [ 'Random Forest Classifier', precision_rf, recall_rf], index=models_performance.columns ), ignore_index = True )\n"
     ]
    },
    {
     "data": {
      "text/html": [
       "<div>\n",
       "<style scoped>\n",
       "    .dataframe tbody tr th:only-of-type {\n",
       "        vertical-align: middle;\n",
       "    }\n",
       "\n",
       "    .dataframe tbody tr th {\n",
       "        vertical-align: top;\n",
       "    }\n",
       "\n",
       "    .dataframe thead th {\n",
       "        text-align: right;\n",
       "    }\n",
       "</style>\n",
       "<table border=\"1\" class=\"dataframe\">\n",
       "  <thead>\n",
       "    <tr style=\"text-align: right;\">\n",
       "      <th></th>\n",
       "      <th>Model</th>\n",
       "      <th>Precision_at_k</th>\n",
       "      <th>Recall_at_k</th>\n",
       "    </tr>\n",
       "  </thead>\n",
       "  <tbody>\n",
       "    <tr>\n",
       "      <th>0</th>\n",
       "      <td>KNN Classifier</td>\n",
       "      <td>0.320</td>\n",
       "      <td>0.523</td>\n",
       "    </tr>\n",
       "    <tr>\n",
       "      <th>1</th>\n",
       "      <td>Logistic Regressor Classifier</td>\n",
       "      <td>0.291</td>\n",
       "      <td>0.476</td>\n",
       "    </tr>\n",
       "    <tr>\n",
       "      <th>2</th>\n",
       "      <td>Random Forest Classifier</td>\n",
       "      <td>0.319</td>\n",
       "      <td>0.522</td>\n",
       "    </tr>\n",
       "  </tbody>\n",
       "</table>\n",
       "</div>"
      ],
      "text/plain": [
       "                           Model  Precision_at_k  Recall_at_k\n",
       "0                 KNN Classifier           0.320        0.523\n",
       "1  Logistic Regressor Classifier           0.291        0.476\n",
       "2       Random Forest Classifier           0.319        0.522"
      ]
     },
     "execution_count": 155,
     "metadata": {},
     "output_type": "execute_result"
    }
   ],
   "source": [
    "models_performance = models_performance.append( pd.Series( [ 'Random Forest Classifier', precision_rf, recall_rf], index=models_performance.columns ), ignore_index = True )\n",
    "models_performance"
   ]
  },
  {
   "cell_type": "markdown",
   "metadata": {},
   "source": [
    "## 7.4. XGBoost Classifier"
   ]
  },
  {
   "cell_type": "code",
   "execution_count": 156,
   "metadata": {},
   "outputs": [
    {
     "data": {
      "image/png": "[encoded data removed]",
      "text/plain": [
       "<Figure size 864x432 with 2 Axes>"
      ]
     },
     "metadata": {},
     "output_type": "display_data"
    }
   ],
   "source": [
    "# model\n",
    "xgb_model = XGBClassifier( max_depth= 4, n_estimators=100 ).fit( x_train, y_train )\n",
    "\n",
    "# model training\n",
    "xgb_model.fit( x_train, y_train )\n",
    "\n",
    "# model_prediction\n",
    "yhat_xgb = xgb_model.predict_proba( x_val )\n",
    "\n",
    "fig, axs = plt.subplots( ncols=2, figsize= (12,6) )\n",
    "# Acummulative Gain\n",
    "skplt.metrics.plot_cumulative_gain( y_val, yhat_xgb, ax=axs[0], title='XGBoost Classifier');\n",
    "# Scikitplot library\n",
    "skplt.metrics.plot_lift_curve( y_val, yhat_xgb, ax=axs[1], title='XGBoost Classifier' );\n"
   ]
  },
  {
   "cell_type": "code",
   "execution_count": 157,
   "metadata": {},
   "outputs": [
    {
     "name": "stdout",
     "output_type": "stream",
     "text": [
      "Precision at k: 0.352\n",
      "Recall at k: 0.575\n"
     ]
    }
   ],
   "source": [
    "x_validation['response'] = y_validation\n",
    "precision_xgb = round( precision_at_k( x_validation, yhat_xgb, 0.20), 3)\n",
    "recall_xgb = round( recall_at_k( x_validation, yhat_xgb, 0.20), 3)\n",
    "\n",
    "print( \"Precision at k: {}\".format( precision_xgb ) )\n",
    "print( \"Recall at k: {}\".format( recall_xgb ) )"
   ]
  },
  {
   "cell_type": "code",
   "execution_count": 159,
   "metadata": {},
   "outputs": [
    {
     "name": "stderr",
     "output_type": "stream",
     "text": [
      "/var/folders/w5/0w2xv4r95g1gfgbzpp2dm6gr0000gn/T/ipykernel_1400/57054842.py:1: FutureWarning: The frame.append method is deprecated and will be removed from pandas in a future version. Use pandas.concat instead.\n",
      "  models_performance = models_performance.append( pd.Series( [ 'XGBoost Classifier', precision_xgb, recall_xgb ], index=models_performance.columns ), ignore_index = True )\n"
     ]
    },
    {
     "data": {
      "text/html": [
       "<div>\n",
       "<style scoped>\n",
       "    .dataframe tbody tr th:only-of-type {\n",
       "        vertical-align: middle;\n",
       "    }\n",
       "\n",
       "    .dataframe tbody tr th {\n",
       "        vertical-align: top;\n",
       "    }\n",
       "\n",
       "    .dataframe thead th {\n",
       "        text-align: right;\n",
       "    }\n",
       "</style>\n",
       "<table border=\"1\" class=\"dataframe\">\n",
       "  <thead>\n",
       "    <tr style=\"text-align: right;\">\n",
       "      <th></th>\n",
       "      <th>Model</th>\n",
       "      <th>Precision_at_k</th>\n",
       "      <th>Recall_at_k</th>\n",
       "    </tr>\n",
       "  </thead>\n",
       "  <tbody>\n",
       "    <tr>\n",
       "      <th>0</th>\n",
       "      <td>KNN Classifier</td>\n",
       "      <td>0.320</td>\n",
       "      <td>0.523</td>\n",
       "    </tr>\n",
       "    <tr>\n",
       "      <th>1</th>\n",
       "      <td>Logistic Regressor Classifier</td>\n",
       "      <td>0.291</td>\n",
       "      <td>0.476</td>\n",
       "    </tr>\n",
       "    <tr>\n",
       "      <th>2</th>\n",
       "      <td>Random Forest Classifier</td>\n",
       "      <td>0.319</td>\n",
       "      <td>0.522</td>\n",
       "    </tr>\n",
       "    <tr>\n",
       "      <th>3</th>\n",
       "      <td>XGBoost Classifier</td>\n",
       "      <td>0.352</td>\n",
       "      <td>0.575</td>\n",
       "    </tr>\n",
       "  </tbody>\n",
       "</table>\n",
       "</div>"
      ],
      "text/plain": [
       "                           Model  Precision_at_k  Recall_at_k\n",
       "0                 KNN Classifier           0.320        0.523\n",
       "1  Logistic Regressor Classifier           0.291        0.476\n",
       "2       Random Forest Classifier           0.319        0.522\n",
       "3             XGBoost Classifier           0.352        0.575"
      ]
     },
     "execution_count": 159,
     "metadata": {},
     "output_type": "execute_result"
    }
   ],
   "source": [
    "models_performance = models_performance.append( pd.Series( [ 'XGBoost Classifier', precision_xgb, recall_xgb ], index=models_performance.columns ), ignore_index = True )\n",
    "models_performance"
   ]
  },
  {
   "cell_type": "markdown",
   "metadata": {},
   "source": [
    "## 7.5. Extra Trees"
   ]
  },
  {
   "cell_type": "code",
   "execution_count": 160,
   "metadata": {},
   "outputs": [
    {
     "data": {
      "image/png": "[encoded data removed]",
      "text/plain": [
       "<Figure size 864x432 with 2 Axes>"
      ]
     },
     "metadata": {},
     "output_type": "display_data"
    }
   ],
   "source": [
    "# model definition\n",
    "et_model = ExtraTreesClassifier( n_estimators=1000, n_jobs=-1, random_state=42 )\n",
    "\n",
    "# model fit\n",
    "et_model.fit( x_train, y_train )\n",
    "\n",
    "# model predict\n",
    "yhat_et = et_model.predict_proba( x_val )\n",
    "\n",
    "fig, axs = plt.subplots( ncols=2, figsize= (12,6) )\n",
    "# Acummulative Gain\n",
    "skplt.metrics.plot_cumulative_gain( y_val, yhat_et, ax=axs[0], title='ExtraTrees Classifier');\n",
    "# Scikitplot library\n",
    "skplt.metrics.plot_lift_curve( y_val, yhat_et, ax=axs[1], title='ExtraTrees Classifier' );"
   ]
  },
  {
   "cell_type": "code",
   "execution_count": 161,
   "metadata": {},
   "outputs": [
    {
     "name": "stdout",
     "output_type": "stream",
     "text": [
      "Precision at k: 0.313\n",
      "Recall at k: 0.511\n"
     ]
    }
   ],
   "source": [
    "x_validation['response'] = y_validation\n",
    "precision_et = round( precision_at_k( x_validation, yhat_et, 0.20), 3)\n",
    "recall_et = round( recall_at_k( x_validation, yhat_et, 0.20), 3)\n",
    "\n",
    "print( \"Precision at k: {}\".format( precision_et ) )\n",
    "print( \"Recall at k: {}\".format( recall_et ) )"
   ]
  },
  {
   "cell_type": "code",
   "execution_count": 162,
   "metadata": {},
   "outputs": [
    {
     "name": "stderr",
     "output_type": "stream",
     "text": [
      "/var/folders/w5/0w2xv4r95g1gfgbzpp2dm6gr0000gn/T/ipykernel_1400/3524547721.py:1: FutureWarning: The frame.append method is deprecated and will be removed from pandas in a future version. Use pandas.concat instead.\n",
      "  models_performance = models_performance.append( pd.Series( [ 'ExtraTrees Classifier', precision_et, recall_et ], index=models_performance.columns ), ignore_index = True )\n"
     ]
    },
    {
     "data": {
      "text/html": [
       "<div>\n",
       "<style scoped>\n",
       "    .dataframe tbody tr th:only-of-type {\n",
       "        vertical-align: middle;\n",
       "    }\n",
       "\n",
       "    .dataframe tbody tr th {\n",
       "        vertical-align: top;\n",
       "    }\n",
       "\n",
       "    .dataframe thead th {\n",
       "        text-align: right;\n",
       "    }\n",
       "</style>\n",
       "<table border=\"1\" class=\"dataframe\">\n",
       "  <thead>\n",
       "    <tr style=\"text-align: right;\">\n",
       "      <th></th>\n",
       "      <th>Model</th>\n",
       "      <th>Precision_at_k</th>\n",
       "      <th>Recall_at_k</th>\n",
       "    </tr>\n",
       "  </thead>\n",
       "  <tbody>\n",
       "    <tr>\n",
       "      <th>0</th>\n",
       "      <td>KNN Classifier</td>\n",
       "      <td>0.320</td>\n",
       "      <td>0.523</td>\n",
       "    </tr>\n",
       "    <tr>\n",
       "      <th>1</th>\n",
       "      <td>Logistic Regressor Classifier</td>\n",
       "      <td>0.291</td>\n",
       "      <td>0.476</td>\n",
       "    </tr>\n",
       "    <tr>\n",
       "      <th>2</th>\n",
       "      <td>Random Forest Classifier</td>\n",
       "      <td>0.319</td>\n",
       "      <td>0.522</td>\n",
       "    </tr>\n",
       "    <tr>\n",
       "      <th>3</th>\n",
       "      <td>XGBoost Classifier</td>\n",
       "      <td>0.352</td>\n",
       "      <td>0.575</td>\n",
       "    </tr>\n",
       "    <tr>\n",
       "      <th>4</th>\n",
       "      <td>ExtraTrees Classifier</td>\n",
       "      <td>0.313</td>\n",
       "      <td>0.511</td>\n",
       "    </tr>\n",
       "  </tbody>\n",
       "</table>\n",
       "</div>"
      ],
      "text/plain": [
       "                           Model  Precision_at_k  Recall_at_k\n",
       "0                 KNN Classifier           0.320        0.523\n",
       "1  Logistic Regressor Classifier           0.291        0.476\n",
       "2       Random Forest Classifier           0.319        0.522\n",
       "3             XGBoost Classifier           0.352        0.575\n",
       "4          ExtraTrees Classifier           0.313        0.511"
      ]
     },
     "execution_count": 162,
     "metadata": {},
     "output_type": "execute_result"
    }
   ],
   "source": [
    "models_performance = models_performance.append( pd.Series( [ 'ExtraTrees Classifier', precision_et, recall_et ], index=models_performance.columns ), ignore_index = True )\n",
    "models_performance"
   ]
  },
  {
   "cell_type": "markdown",
   "metadata": {},
   "source": [
    "# 8.0. MODEL PERFORMANCE"
   ]
  },
  {
   "cell_type": "markdown",
   "metadata": {},
   "source": [
    "### 8.1. Single Performance"
   ]
  },
  {
   "cell_type": "code",
   "execution_count": 147,
   "metadata": {},
   "outputs": [
    {
     "data": {
      "text/html": [
       "<div>\n",
       "<style scoped>\n",
       "    .dataframe tbody tr th:only-of-type {\n",
       "        vertical-align: middle;\n",
       "    }\n",
       "\n",
       "    .dataframe tbody tr th {\n",
       "        vertical-align: top;\n",
       "    }\n",
       "\n",
       "    .dataframe thead th {\n",
       "        text-align: right;\n",
       "    }\n",
       "</style>\n",
       "<table border=\"1\" class=\"dataframe\">\n",
       "  <thead>\n",
       "    <tr style=\"text-align: right;\">\n",
       "      <th></th>\n",
       "      <th>Model</th>\n",
       "      <th>Precision_at_k</th>\n",
       "      <th>Recall_at_k</th>\n",
       "    </tr>\n",
       "  </thead>\n",
       "  <tbody>\n",
       "  </tbody>\n",
       "</table>\n",
       "</div>"
      ],
      "text/plain": [
       "Empty DataFrame\n",
       "Columns: [Model, Precision_at_k, Recall_at_k]\n",
       "Index: []"
      ]
     },
     "execution_count": 147,
     "metadata": {},
     "output_type": "execute_result"
    }
   ],
   "source": [
    "models_performance = pd.DataFrame( { 'Model':[], \"Precision_at_k\":[], \"Recall_at_k\":[] } )\n",
    "\n",
    "models_performance"
   ]
  },
  {
   "cell_type": "code",
   "execution_count": 163,
   "metadata": {},
   "outputs": [
    {
     "data": {
      "text/html": [
       "<div>\n",
       "<style scoped>\n",
       "    .dataframe tbody tr th:only-of-type {\n",
       "        vertical-align: middle;\n",
       "    }\n",
       "\n",
       "    .dataframe tbody tr th {\n",
       "        vertical-align: top;\n",
       "    }\n",
       "\n",
       "    .dataframe thead th {\n",
       "        text-align: right;\n",
       "    }\n",
       "</style>\n",
       "<table border=\"1\" class=\"dataframe\">\n",
       "  <thead>\n",
       "    <tr style=\"text-align: right;\">\n",
       "      <th></th>\n",
       "      <th>Model</th>\n",
       "      <th>Precision_at_k</th>\n",
       "      <th>Recall_at_k</th>\n",
       "    </tr>\n",
       "  </thead>\n",
       "  <tbody>\n",
       "    <tr>\n",
       "      <th>0</th>\n",
       "      <td>KNN Classifier</td>\n",
       "      <td>0.320</td>\n",
       "      <td>0.523</td>\n",
       "    </tr>\n",
       "    <tr>\n",
       "      <th>1</th>\n",
       "      <td>Logistic Regressor Classifier</td>\n",
       "      <td>0.291</td>\n",
       "      <td>0.476</td>\n",
       "    </tr>\n",
       "    <tr>\n",
       "      <th>2</th>\n",
       "      <td>Random Forest Classifier</td>\n",
       "      <td>0.319</td>\n",
       "      <td>0.522</td>\n",
       "    </tr>\n",
       "    <tr>\n",
       "      <th>3</th>\n",
       "      <td>XGBoost Classifier</td>\n",
       "      <td>0.352</td>\n",
       "      <td>0.575</td>\n",
       "    </tr>\n",
       "    <tr>\n",
       "      <th>4</th>\n",
       "      <td>ExtraTrees Classifier</td>\n",
       "      <td>0.313</td>\n",
       "      <td>0.511</td>\n",
       "    </tr>\n",
       "  </tbody>\n",
       "</table>\n",
       "</div>"
      ],
      "text/plain": [
       "                           Model  Precision_at_k  Recall_at_k\n",
       "0                 KNN Classifier           0.320        0.523\n",
       "1  Logistic Regressor Classifier           0.291        0.476\n",
       "2       Random Forest Classifier           0.319        0.522\n",
       "3             XGBoost Classifier           0.352        0.575\n",
       "4          ExtraTrees Classifier           0.313        0.511"
      ]
     },
     "execution_count": 163,
     "metadata": {},
     "output_type": "execute_result"
    }
   ],
   "source": [
    "models_performance"
   ]
  },
  {
   "cell_type": "markdown",
   "metadata": {},
   "source": [
    "### 8.1. Real Performance Cross Validation"
   ]
  },
  {
   "cell_type": "code",
   "execution_count": 144,
   "metadata": {},
   "outputs": [
    {
     "data": {
      "text/html": [
       "<div>\n",
       "<style scoped>\n",
       "    .dataframe tbody tr th:only-of-type {\n",
       "        vertical-align: middle;\n",
       "    }\n",
       "\n",
       "    .dataframe tbody tr th {\n",
       "        vertical-align: top;\n",
       "    }\n",
       "\n",
       "    .dataframe thead th {\n",
       "        text-align: right;\n",
       "    }\n",
       "</style>\n",
       "<table border=\"1\" class=\"dataframe\">\n",
       "  <thead>\n",
       "    <tr style=\"text-align: right;\">\n",
       "      <th></th>\n",
       "      <th>Model</th>\n",
       "      <th>Precision_at_k</th>\n",
       "      <th>Recall_at_k</th>\n",
       "    </tr>\n",
       "  </thead>\n",
       "  <tbody>\n",
       "  </tbody>\n",
       "</table>\n",
       "</div>"
      ],
      "text/plain": [
       "Empty DataFrame\n",
       "Columns: [Model, Precision_at_k, Recall_at_k]\n",
       "Index: []"
      ]
     },
     "execution_count": 144,
     "metadata": {},
     "output_type": "execute_result"
    }
   ],
   "source": [
    "models_performance_cv = pd.DataFrame( { 'Model':[], \"Precision_at_k\":[], \"Recall_at_k\":[] } )\n",
    "\n",
    "models_performance_cv"
   ]
  },
  {
   "cell_type": "code",
   "execution_count": 164,
   "metadata": {},
   "outputs": [
    {
     "name": "stderr",
     "output_type": "stream",
     "text": [
      "/var/folders/w5/0w2xv4r95g1gfgbzpp2dm6gr0000gn/T/ipykernel_1400/3668126845.py:22: SettingWithCopyWarning: \n",
      "A value is trying to be set on a copy of a slice from a DataFrame.\n",
      "Try using .loc[row_indexer,col_indexer] = value instead\n",
      "\n",
      "See the caveats in the documentation: https://pandas.pydata.org/pandas-docs/stable/user_guide/indexing.html#returning-a-view-versus-a-copy\n",
      "  x_val_fold['response'] = y_val_fold\n",
      "/var/folders/w5/0w2xv4r95g1gfgbzpp2dm6gr0000gn/T/ipykernel_1400/1348542041.py:6: SettingWithCopyWarning: \n",
      "A value is trying to be set on a copy of a slice from a DataFrame.\n",
      "Try using .loc[row_indexer,col_indexer] = value instead\n",
      "\n",
      "See the caveats in the documentation: https://pandas.pydata.org/pandas-docs/stable/user_guide/indexing.html#returning-a-view-versus-a-copy\n",
      "  data['score'] = yhat_proba[:,1].tolist()\n",
      "/var/folders/w5/0w2xv4r95g1gfgbzpp2dm6gr0000gn/T/ipykernel_1400/1348542041.py:25: SettingWithCopyWarning: \n",
      "A value is trying to be set on a copy of a slice from a DataFrame.\n",
      "Try using .loc[row_indexer,col_indexer] = value instead\n",
      "\n",
      "See the caveats in the documentation: https://pandas.pydata.org/pandas-docs/stable/user_guide/indexing.html#returning-a-view-versus-a-copy\n",
      "  data['score'] = yhat_proba[:,1].tolist()\n",
      "/var/folders/w5/0w2xv4r95g1gfgbzpp2dm6gr0000gn/T/ipykernel_1400/3668126845.py:34: FutureWarning: The frame.append method is deprecated and will be removed from pandas in a future version. Use pandas.concat instead.\n",
      "  models_performance = models_performance.append(pd.Series( [ modelName, precision_str, recall_str ], index=models_performance.columns ), ignore_index = True )\n",
      "/var/folders/w5/0w2xv4r95g1gfgbzpp2dm6gr0000gn/T/ipykernel_1400/3668126845.py:22: SettingWithCopyWarning: \n",
      "A value is trying to be set on a copy of a slice from a DataFrame.\n",
      "Try using .loc[row_indexer,col_indexer] = value instead\n",
      "\n",
      "See the caveats in the documentation: https://pandas.pydata.org/pandas-docs/stable/user_guide/indexing.html#returning-a-view-versus-a-copy\n",
      "  x_val_fold['response'] = y_val_fold\n",
      "/var/folders/w5/0w2xv4r95g1gfgbzpp2dm6gr0000gn/T/ipykernel_1400/1348542041.py:6: SettingWithCopyWarning: \n",
      "A value is trying to be set on a copy of a slice from a DataFrame.\n",
      "Try using .loc[row_indexer,col_indexer] = value instead\n",
      "\n",
      "See the caveats in the documentation: https://pandas.pydata.org/pandas-docs/stable/user_guide/indexing.html#returning-a-view-versus-a-copy\n",
      "  data['score'] = yhat_proba[:,1].tolist()\n",
      "/var/folders/w5/0w2xv4r95g1gfgbzpp2dm6gr0000gn/T/ipykernel_1400/1348542041.py:25: SettingWithCopyWarning: \n",
      "A value is trying to be set on a copy of a slice from a DataFrame.\n",
      "Try using .loc[row_indexer,col_indexer] = value instead\n",
      "\n",
      "See the caveats in the documentation: https://pandas.pydata.org/pandas-docs/stable/user_guide/indexing.html#returning-a-view-versus-a-copy\n",
      "  data['score'] = yhat_proba[:,1].tolist()\n",
      "/var/folders/w5/0w2xv4r95g1gfgbzpp2dm6gr0000gn/T/ipykernel_1400/3668126845.py:34: FutureWarning: The frame.append method is deprecated and will be removed from pandas in a future version. Use pandas.concat instead.\n",
      "  models_performance = models_performance.append(pd.Series( [ modelName, precision_str, recall_str ], index=models_performance.columns ), ignore_index = True )\n",
      "/var/folders/w5/0w2xv4r95g1gfgbzpp2dm6gr0000gn/T/ipykernel_1400/3668126845.py:22: SettingWithCopyWarning: \n",
      "A value is trying to be set on a copy of a slice from a DataFrame.\n",
      "Try using .loc[row_indexer,col_indexer] = value instead\n",
      "\n",
      "See the caveats in the documentation: https://pandas.pydata.org/pandas-docs/stable/user_guide/indexing.html#returning-a-view-versus-a-copy\n",
      "  x_val_fold['response'] = y_val_fold\n",
      "/var/folders/w5/0w2xv4r95g1gfgbzpp2dm6gr0000gn/T/ipykernel_1400/1348542041.py:6: SettingWithCopyWarning: \n",
      "A value is trying to be set on a copy of a slice from a DataFrame.\n",
      "Try using .loc[row_indexer,col_indexer] = value instead\n",
      "\n",
      "See the caveats in the documentation: https://pandas.pydata.org/pandas-docs/stable/user_guide/indexing.html#returning-a-view-versus-a-copy\n",
      "  data['score'] = yhat_proba[:,1].tolist()\n",
      "/var/folders/w5/0w2xv4r95g1gfgbzpp2dm6gr0000gn/T/ipykernel_1400/1348542041.py:25: SettingWithCopyWarning: \n",
      "A value is trying to be set on a copy of a slice from a DataFrame.\n",
      "Try using .loc[row_indexer,col_indexer] = value instead\n",
      "\n",
      "See the caveats in the documentation: https://pandas.pydata.org/pandas-docs/stable/user_guide/indexing.html#returning-a-view-versus-a-copy\n",
      "  data['score'] = yhat_proba[:,1].tolist()\n",
      "/var/folders/w5/0w2xv4r95g1gfgbzpp2dm6gr0000gn/T/ipykernel_1400/3668126845.py:34: FutureWarning: The frame.append method is deprecated and will be removed from pandas in a future version. Use pandas.concat instead.\n",
      "  models_performance = models_performance.append(pd.Series( [ modelName, precision_str, recall_str ], index=models_performance.columns ), ignore_index = True )\n",
      "/var/folders/w5/0w2xv4r95g1gfgbzpp2dm6gr0000gn/T/ipykernel_1400/3668126845.py:22: SettingWithCopyWarning: \n",
      "A value is trying to be set on a copy of a slice from a DataFrame.\n",
      "Try using .loc[row_indexer,col_indexer] = value instead\n",
      "\n",
      "See the caveats in the documentation: https://pandas.pydata.org/pandas-docs/stable/user_guide/indexing.html#returning-a-view-versus-a-copy\n",
      "  x_val_fold['response'] = y_val_fold\n",
      "/var/folders/w5/0w2xv4r95g1gfgbzpp2dm6gr0000gn/T/ipykernel_1400/1348542041.py:6: SettingWithCopyWarning: \n",
      "A value is trying to be set on a copy of a slice from a DataFrame.\n",
      "Try using .loc[row_indexer,col_indexer] = value instead\n",
      "\n",
      "See the caveats in the documentation: https://pandas.pydata.org/pandas-docs/stable/user_guide/indexing.html#returning-a-view-versus-a-copy\n",
      "  data['score'] = yhat_proba[:,1].tolist()\n",
      "/var/folders/w5/0w2xv4r95g1gfgbzpp2dm6gr0000gn/T/ipykernel_1400/1348542041.py:25: SettingWithCopyWarning: \n",
      "A value is trying to be set on a copy of a slice from a DataFrame.\n",
      "Try using .loc[row_indexer,col_indexer] = value instead\n",
      "\n",
      "See the caveats in the documentation: https://pandas.pydata.org/pandas-docs/stable/user_guide/indexing.html#returning-a-view-versus-a-copy\n",
      "  data['score'] = yhat_proba[:,1].tolist()\n",
      "/var/folders/w5/0w2xv4r95g1gfgbzpp2dm6gr0000gn/T/ipykernel_1400/3668126845.py:34: FutureWarning: The frame.append method is deprecated and will be removed from pandas in a future version. Use pandas.concat instead.\n",
      "  models_performance = models_performance.append(pd.Series( [ modelName, precision_str, recall_str ], index=models_performance.columns ), ignore_index = True )\n",
      "/var/folders/w5/0w2xv4r95g1gfgbzpp2dm6gr0000gn/T/ipykernel_1400/3668126845.py:22: SettingWithCopyWarning: \n",
      "A value is trying to be set on a copy of a slice from a DataFrame.\n",
      "Try using .loc[row_indexer,col_indexer] = value instead\n",
      "\n",
      "See the caveats in the documentation: https://pandas.pydata.org/pandas-docs/stable/user_guide/indexing.html#returning-a-view-versus-a-copy\n",
      "  x_val_fold['response'] = y_val_fold\n",
      "/var/folders/w5/0w2xv4r95g1gfgbzpp2dm6gr0000gn/T/ipykernel_1400/1348542041.py:6: SettingWithCopyWarning: \n",
      "A value is trying to be set on a copy of a slice from a DataFrame.\n",
      "Try using .loc[row_indexer,col_indexer] = value instead\n",
      "\n",
      "See the caveats in the documentation: https://pandas.pydata.org/pandas-docs/stable/user_guide/indexing.html#returning-a-view-versus-a-copy\n",
      "  data['score'] = yhat_proba[:,1].tolist()\n",
      "/var/folders/w5/0w2xv4r95g1gfgbzpp2dm6gr0000gn/T/ipykernel_1400/1348542041.py:25: SettingWithCopyWarning: \n",
      "A value is trying to be set on a copy of a slice from a DataFrame.\n",
      "Try using .loc[row_indexer,col_indexer] = value instead\n",
      "\n",
      "See the caveats in the documentation: https://pandas.pydata.org/pandas-docs/stable/user_guide/indexing.html#returning-a-view-versus-a-copy\n",
      "  data['score'] = yhat_proba[:,1].tolist()\n",
      "/var/folders/w5/0w2xv4r95g1gfgbzpp2dm6gr0000gn/T/ipykernel_1400/3668126845.py:34: FutureWarning: The frame.append method is deprecated and will be removed from pandas in a future version. Use pandas.concat instead.\n",
      "  models_performance = models_performance.append(pd.Series( [ modelName, precision_str, recall_str ], index=models_performance.columns ), ignore_index = True )\n"
     ]
    },
    {
     "data": {
      "text/html": [
       "<div>\n",
       "<style scoped>\n",
       "    .dataframe tbody tr th:only-of-type {\n",
       "        vertical-align: middle;\n",
       "    }\n",
       "\n",
       "    .dataframe tbody tr th {\n",
       "        vertical-align: top;\n",
       "    }\n",
       "\n",
       "    .dataframe thead th {\n",
       "        text-align: right;\n",
       "    }\n",
       "</style>\n",
       "<table border=\"1\" class=\"dataframe\">\n",
       "  <thead>\n",
       "    <tr style=\"text-align: right;\">\n",
       "      <th></th>\n",
       "      <th>Model</th>\n",
       "      <th>Precision_at_k</th>\n",
       "      <th>Recall_at_k</th>\n",
       "    </tr>\n",
       "  </thead>\n",
       "  <tbody>\n",
       "    <tr>\n",
       "      <th>0</th>\n",
       "      <td>KNN Model CV</td>\n",
       "      <td>0.318+/-0.0</td>\n",
       "      <td>0.519+/-0.0</td>\n",
       "    </tr>\n",
       "    <tr>\n",
       "      <th>1</th>\n",
       "      <td>KNN Model CV</td>\n",
       "      <td>0.318+/-0.0</td>\n",
       "      <td>0.519+/-0.0</td>\n",
       "    </tr>\n",
       "    <tr>\n",
       "      <th>2</th>\n",
       "      <td>Logistic Regressor Classifier CV</td>\n",
       "      <td>0.293+/-0.0</td>\n",
       "      <td>0.478+/-0.0</td>\n",
       "    </tr>\n",
       "    <tr>\n",
       "      <th>3</th>\n",
       "      <td>Random Forest Classifier CV</td>\n",
       "      <td>0.32+/-0.0</td>\n",
       "      <td>0.522+/-0.0</td>\n",
       "    </tr>\n",
       "    <tr>\n",
       "      <th>4</th>\n",
       "      <td>XGBoost Classifier CV</td>\n",
       "      <td>0.353+/-0.0</td>\n",
       "      <td>0.576+/-0.0</td>\n",
       "    </tr>\n",
       "    <tr>\n",
       "      <th>5</th>\n",
       "      <td>ExtraTrees Classifier CV</td>\n",
       "      <td>0.312+/-0.0</td>\n",
       "      <td>0.508+/-0.0</td>\n",
       "    </tr>\n",
       "  </tbody>\n",
       "</table>\n",
       "</div>"
      ],
      "text/plain": [
       "                              Model Precision_at_k  Recall_at_k\n",
       "0                      KNN Model CV    0.318+/-0.0  0.519+/-0.0\n",
       "1                      KNN Model CV    0.318+/-0.0  0.519+/-0.0\n",
       "2  Logistic Regressor Classifier CV    0.293+/-0.0  0.478+/-0.0\n",
       "3       Random Forest Classifier CV     0.32+/-0.0  0.522+/-0.0\n",
       "4             XGBoost Classifier CV    0.353+/-0.0  0.576+/-0.0\n",
       "5          ExtraTrees Classifier CV    0.312+/-0.0  0.508+/-0.0"
      ]
     },
     "execution_count": 164,
     "metadata": {},
     "output_type": "execute_result"
    }
   ],
   "source": [
    "#cross_validation( models_performance, num_folds, modelName, model, x_train, y_train ):\n",
    "models_performance_cv = cross_validation( models_performance_cv, 5, \"KNN Model CV\", knn_model, x_train, y_train );\n",
    "models_performance_cv = cross_validation( models_performance_cv, 5, \"Logistic Regressor Classifier CV\", lr_model, x_train, y_train );\n",
    "models_performance_cv = cross_validation( models_performance_cv, 5, \"Random Forest Classifier CV\", rf_model, x_train, y_train );\n",
    "models_performance_cv = cross_validation( models_performance_cv, 5, \"XGBoost Classifier CV\", xgb_model, x_train, y_train );\n",
    "models_performance_cv = cross_validation( models_performance_cv, 5, \"ExtraTrees Classifier CV\", et_model, x_train, y_train );\n",
    "\n",
    "\n",
    "models_performance_cv\n",
    "\n"
   ]
  },
  {
   "cell_type": "code",
   "execution_count": null,
   "metadata": {},
   "outputs": [],
   "source": []
  },
  {
   "cell_type": "code",
   "execution_count": null,
   "metadata": {},
   "outputs": [],
   "source": []
  },
  {
   "cell_type": "markdown",
   "metadata": {},
   "source": [
    "# 9.0. DEPLOY TO PRODUCTION"
   ]
  },
  {
   "cell_type": "code",
   "execution_count": 168,
   "metadata": {},
   "outputs": [],
   "source": [
    "# Save Trained Model\n",
    "#pickle.dump( lr_model, open( '/Users/thiago/Thiago/Data_Science/comunidade_ds/health_insurance/src/models/model_linear_regression.pkl', 'wb' ) )\n",
    "#pickle.dump( knn_model, open( '/Users/thiago/Thiago/Data_Science/comunidade_ds/health_insurance/models/model_knn.pkl', 'wb' ) )\n",
    "#pickle.dump( xgb_model, open( '/Users/thiago/Thiago/Data_Science/comunidade_ds/health_insurance/models/model_xgb.pkl', 'wb' ) )\n",
    "#pickle.dump( et_model, open( '/Users/thiago/Thiago/Data_Science/comunidade_ds/health_insurance/models/model_et.pkl', 'wb' ) )"
   ]
  },
  {
   "cell_type": "markdown",
   "metadata": {},
   "source": [
    "## 9.1. Health Insurance Class"
   ]
  },
  {
   "cell_type": "code",
   "execution_count": null,
   "metadata": {},
   "outputs": [],
   "source": [
    "class HealthInsurance:\n",
    "\n",
    "    def __init__( self ):\n",
    "        self.home_path = '/Users/thiago/Thiago/Data_Science/comunidade_ds/health_insurance'\n",
    "        self.annual_premium_scaler =            pickle.load( open( self.home_path + 'src/features/annual_premium_scaler.pkl', 'rb' ) ) \n",
    "        self.age_scaler =                       pickle.load( open( self.home_path + 'src/features/age_scaler.pkl', 'rb' ) ) \n",
    "        self.vintage_scaler =                   pickle.load( open( self.home_path + 'src/features/vintage_scaler.pkl', 'rb' ) ) \n",
    "        self.target_encode_gender_scaler =      pickle.load( open( self.home_path + 'src/features/target_encode_gender_scaler.pkl', 'rb' ) ) \n",
    "        self.target_encode_region_code_scaler = pickle.load( open( self.home_path + 'src/features/target_encode_region_code_scaler.pkl', 'rb' ) ) \n",
    "        self.fe_policy_sales_channel_scaler =   pickle.load( open( self.home_path + 'src/features/fe_policy_sales_channel_scaler.pkl', 'rb' ) ) \n",
    "\n",
    "    def data_cleaning( self, df1 ):\n",
    "                \n",
    "        ## 1.1. Rename Columns\n",
    "        cols_new = ['id', 'gender', 'age', 'driving_license', 'region_code',\n",
    "            'previously_insured', 'vehicle_age', 'vehicle_damage', 'annual_premium',\n",
    "            'policy_sales_channel', 'vintage', 'response']\n",
    "        # rename\n",
    "        df1.columns = cols_new\n",
    "        \n",
    "        return df1\n",
    "   \n",
    "    def feature_engineering( df2 ):\n",
    "                \n",
    "        # vehicle age\n",
    "        df2['vehicle_age'] = df2['vehicle_age'].apply( lambda x: 'over_2_years' if x == '> 2 Years' else 'between_1_2_year' \n",
    "                                                                                if x == '1-2 Year' else 'below_1_year' )\n",
    "        # vehicle damage                                                                     \n",
    "        df2['vehicle_damage'] = df2['vehicle_damage'].apply( lambda x: 1 if x == 'Yes' else 0 )        \n",
    "\n",
    "        return df2\n",
    "\n",
    "\n",
    "    def data_preparation( df5 ):\n",
    "\n",
    "        # annual_premium - StandardScaler\n",
    "        df5['annual_premium'] = self.annual_premium_scaler.transform( df5[['annual_premium']].values ) \n",
    "\n",
    "        # age - MinMaxScaler\n",
    "        df5['age'] = self.age_scaler.transform( df5[['age']].values )\n",
    "\n",
    "        # vintage\n",
    "        df5['vintage'] = self.vintage_scaler.transform( df5[['vintage']].values )\n",
    "\n",
    "        # gender\n",
    "        df5.loc[:, 'gender'] = df5['gender'].map( self.target_encode_gender_scaler )\n",
    "\n",
    "        # region_code - Frequency Encoding / Target Encoding / Weight Target Encoding\n",
    "        df5.loc[:, 'region_code'] = df5['region_code'].map( self.target_encode_region_code_scaler )\n",
    "\n",
    "        # vehicle_age - One Hot Encoding / Order Encoding / Frequency Encoding\n",
    "        df5 = pd.get_dummies( df5, prefix='vehicle_age', columns=['vehicle_age'] )\n",
    "\n",
    "        # policy_sales_channel - Target Encoding / Frequency Encoding\n",
    "        df5.loc[:, 'policy_sales_channel'] = df5['policy_sales_channel'].map( self.fe_policy_sales_channel_scaler )\n",
    "\n",
    "        # Feature Selection\n",
    "        cols_selected = ['annual_premium', 'vintage', 'age', 'region_code', 'vehicle_damage', 'previously_insured', 'policy_sales_channel']\n",
    "\n",
    "        return df5[ cols_selected ]\n",
    "\n",
    "\n",
    "    def get_prediction( self, model, original_data, test_data ):\n",
    "        # model prediction\n",
    "        pred = model.predict_proba( test_data )\n",
    "\n",
    "        # join prediction into original data\n",
    "        original_data['score'] = pred[:, 1].tolist()\n",
    "\n",
    "        return original_data.to_json( orient='records', data_format='iso' )"
   ]
  },
  {
   "cell_type": "markdown",
   "metadata": {},
   "source": [
    "## 9.2. API Handler"
   ]
  },
  {
   "cell_type": "code",
   "execution_count": null,
   "metadata": {},
   "outputs": [],
   "source": [
    "import pickle\n",
    "import pandas as pd\n",
    "from flask import Flask, request, Response\n",
    "from healthinsurance import HealthInsurance\n",
    "\n",
    "# loading model\n",
    "path = '/Users/thiago/Thiago/Data_Science/comunidade_ds/health_insurance/'\n",
    "model = pickle.load( open( path + 'src/models/model_health_insurance.pkl', 'rb' ) )\n",
    "\n",
    "# initialize API\n",
    "app = Flask( __name__ )\n",
    "\n",
    "@app.route( '/predict', methods=['POST'] )\n",
    "def health_insurance_predict():\n",
    "    test_json = request.get_json()\n",
    "\n",
    "    if test_json: # there is data\n",
    "        if isinstance( test_json, dict ): # unique example\n",
    "            test_raw = pd.DataFrame( test_json, index=[0] )\n",
    "        \n",
    "        else: # multiple example\n",
    "            test_raw = pd.DataFrame( test_json, columns=test_json[0].keys() )\n",
    "        \n",
    "        # Instantiate  Rossman class\n",
    "        pipeline = HealthInsurance()\n",
    "\n",
    "        # data cleaning\n",
    "        df1 = pipeline.data_cleaning( test_raw )\n",
    "\n",
    "        # feature enginneering\n",
    "        df2 = pipeline.feature_engineering( df1 )\n",
    "\n",
    "        # data preparation \n",
    "        df3 = pipeline.data_preparation( df2 )\n",
    "\n",
    "        # prediction\n",
    "        df_response = pipeline.get_predict( model, test_raw, df3 )\n",
    "\n",
    "        return df_response\n",
    "\n",
    "    else:\n",
    "        return Response( '{}', status=200, mimetype='application/json' )\n",
    "\n",
    "if __name__ = '__main__':\n",
    "    app.run( '0.0.0.0', debug=True )"
   ]
  },
  {
   "cell_type": "markdown",
   "metadata": {},
   "source": [
    "## 9.3. API Tester"
   ]
  },
  {
   "cell_type": "code",
   "execution_count": 103,
   "metadata": {},
   "outputs": [],
   "source": [
    "import requests"
   ]
  },
  {
   "cell_type": "code",
   "execution_count": 161,
   "metadata": {},
   "outputs": [],
   "source": [
    "# loading test dataset\n",
    "df_test = x_validation\n",
    "df_test['response'] = y_validation"
   ]
  },
  {
   "cell_type": "code",
   "execution_count": 162,
   "metadata": {},
   "outputs": [],
   "source": [
    "df_test = df_test.sample(10)"
   ]
  },
  {
   "cell_type": "code",
   "execution_count": 163,
   "metadata": {},
   "outputs": [
    {
     "data": {
      "text/html": [
       "<div>\n",
       "<style scoped>\n",
       "    .dataframe tbody tr th:only-of-type {\n",
       "        vertical-align: middle;\n",
       "    }\n",
       "\n",
       "    .dataframe tbody tr th {\n",
       "        vertical-align: top;\n",
       "    }\n",
       "\n",
       "    .dataframe thead th {\n",
       "        text-align: right;\n",
       "    }\n",
       "</style>\n",
       "<table border=\"1\" class=\"dataframe\">\n",
       "  <thead>\n",
       "    <tr style=\"text-align: right;\">\n",
       "      <th></th>\n",
       "      <th>id</th>\n",
       "      <th>gender</th>\n",
       "      <th>age</th>\n",
       "      <th>driving_license</th>\n",
       "      <th>region_code</th>\n",
       "      <th>previously_insured</th>\n",
       "      <th>vehicle_age</th>\n",
       "      <th>vehicle_damage</th>\n",
       "      <th>annual_premium</th>\n",
       "      <th>policy_sales_channel</th>\n",
       "      <th>vintage</th>\n",
       "      <th>response</th>\n",
       "    </tr>\n",
       "  </thead>\n",
       "  <tbody>\n",
       "    <tr>\n",
       "      <th>359507</th>\n",
       "      <td>359508</td>\n",
       "      <td>Male</td>\n",
       "      <td>38</td>\n",
       "      <td>1</td>\n",
       "      <td>35.0</td>\n",
       "      <td>0</td>\n",
       "      <td>between_1_2_year</td>\n",
       "      <td>1</td>\n",
       "      <td>2630.0</td>\n",
       "      <td>156.0</td>\n",
       "      <td>207</td>\n",
       "      <td>1</td>\n",
       "    </tr>\n",
       "    <tr>\n",
       "      <th>199657</th>\n",
       "      <td>199658</td>\n",
       "      <td>Female</td>\n",
       "      <td>24</td>\n",
       "      <td>1</td>\n",
       "      <td>11.0</td>\n",
       "      <td>1</td>\n",
       "      <td>below_1_year</td>\n",
       "      <td>0</td>\n",
       "      <td>28674.0</td>\n",
       "      <td>152.0</td>\n",
       "      <td>114</td>\n",
       "      <td>0</td>\n",
       "    </tr>\n",
       "    <tr>\n",
       "      <th>236009</th>\n",
       "      <td>236010</td>\n",
       "      <td>Male</td>\n",
       "      <td>23</td>\n",
       "      <td>1</td>\n",
       "      <td>28.0</td>\n",
       "      <td>1</td>\n",
       "      <td>below_1_year</td>\n",
       "      <td>0</td>\n",
       "      <td>41620.0</td>\n",
       "      <td>152.0</td>\n",
       "      <td>183</td>\n",
       "      <td>0</td>\n",
       "    </tr>\n",
       "    <tr>\n",
       "      <th>220449</th>\n",
       "      <td>220450</td>\n",
       "      <td>Female</td>\n",
       "      <td>21</td>\n",
       "      <td>1</td>\n",
       "      <td>39.0</td>\n",
       "      <td>1</td>\n",
       "      <td>below_1_year</td>\n",
       "      <td>0</td>\n",
       "      <td>35437.0</td>\n",
       "      <td>152.0</td>\n",
       "      <td>99</td>\n",
       "      <td>0</td>\n",
       "    </tr>\n",
       "    <tr>\n",
       "      <th>226826</th>\n",
       "      <td>226827</td>\n",
       "      <td>Female</td>\n",
       "      <td>78</td>\n",
       "      <td>1</td>\n",
       "      <td>8.0</td>\n",
       "      <td>1</td>\n",
       "      <td>between_1_2_year</td>\n",
       "      <td>0</td>\n",
       "      <td>48234.0</td>\n",
       "      <td>7.0</td>\n",
       "      <td>234</td>\n",
       "      <td>0</td>\n",
       "    </tr>\n",
       "    <tr>\n",
       "      <th>294630</th>\n",
       "      <td>294631</td>\n",
       "      <td>Male</td>\n",
       "      <td>28</td>\n",
       "      <td>1</td>\n",
       "      <td>11.0</td>\n",
       "      <td>1</td>\n",
       "      <td>below_1_year</td>\n",
       "      <td>0</td>\n",
       "      <td>20889.0</td>\n",
       "      <td>152.0</td>\n",
       "      <td>188</td>\n",
       "      <td>0</td>\n",
       "    </tr>\n",
       "    <tr>\n",
       "      <th>214928</th>\n",
       "      <td>214929</td>\n",
       "      <td>Female</td>\n",
       "      <td>30</td>\n",
       "      <td>1</td>\n",
       "      <td>41.0</td>\n",
       "      <td>1</td>\n",
       "      <td>between_1_2_year</td>\n",
       "      <td>0</td>\n",
       "      <td>17029.0</td>\n",
       "      <td>109.0</td>\n",
       "      <td>17</td>\n",
       "      <td>0</td>\n",
       "    </tr>\n",
       "    <tr>\n",
       "      <th>23696</th>\n",
       "      <td>23697</td>\n",
       "      <td>Female</td>\n",
       "      <td>53</td>\n",
       "      <td>1</td>\n",
       "      <td>28.0</td>\n",
       "      <td>1</td>\n",
       "      <td>between_1_2_year</td>\n",
       "      <td>0</td>\n",
       "      <td>35929.0</td>\n",
       "      <td>26.0</td>\n",
       "      <td>115</td>\n",
       "      <td>0</td>\n",
       "    </tr>\n",
       "    <tr>\n",
       "      <th>155443</th>\n",
       "      <td>155444</td>\n",
       "      <td>Male</td>\n",
       "      <td>30</td>\n",
       "      <td>1</td>\n",
       "      <td>28.0</td>\n",
       "      <td>1</td>\n",
       "      <td>below_1_year</td>\n",
       "      <td>0</td>\n",
       "      <td>29482.0</td>\n",
       "      <td>152.0</td>\n",
       "      <td>221</td>\n",
       "      <td>0</td>\n",
       "    </tr>\n",
       "    <tr>\n",
       "      <th>210112</th>\n",
       "      <td>210113</td>\n",
       "      <td>Female</td>\n",
       "      <td>22</td>\n",
       "      <td>1</td>\n",
       "      <td>30.0</td>\n",
       "      <td>1</td>\n",
       "      <td>below_1_year</td>\n",
       "      <td>0</td>\n",
       "      <td>44812.0</td>\n",
       "      <td>152.0</td>\n",
       "      <td>51</td>\n",
       "      <td>0</td>\n",
       "    </tr>\n",
       "  </tbody>\n",
       "</table>\n",
       "</div>"
      ],
      "text/plain": [
       "            id  gender  age  driving_license  region_code  previously_insured  \\\n",
       "359507  359508    Male   38                1         35.0                   0   \n",
       "199657  199658  Female   24                1         11.0                   1   \n",
       "236009  236010    Male   23                1         28.0                   1   \n",
       "220449  220450  Female   21                1         39.0                   1   \n",
       "226826  226827  Female   78                1          8.0                   1   \n",
       "294630  294631    Male   28                1         11.0                   1   \n",
       "214928  214929  Female   30                1         41.0                   1   \n",
       "23696    23697  Female   53                1         28.0                   1   \n",
       "155443  155444    Male   30                1         28.0                   1   \n",
       "210112  210113  Female   22                1         30.0                   1   \n",
       "\n",
       "             vehicle_age  vehicle_damage  annual_premium  \\\n",
       "359507  between_1_2_year               1          2630.0   \n",
       "199657      below_1_year               0         28674.0   \n",
       "236009      below_1_year               0         41620.0   \n",
       "220449      below_1_year               0         35437.0   \n",
       "226826  between_1_2_year               0         48234.0   \n",
       "294630      below_1_year               0         20889.0   \n",
       "214928  between_1_2_year               0         17029.0   \n",
       "23696   between_1_2_year               0         35929.0   \n",
       "155443      below_1_year               0         29482.0   \n",
       "210112      below_1_year               0         44812.0   \n",
       "\n",
       "        policy_sales_channel  vintage  response  \n",
       "359507                 156.0      207         1  \n",
       "199657                 152.0      114         0  \n",
       "236009                 152.0      183         0  \n",
       "220449                 152.0       99         0  \n",
       "226826                   7.0      234         0  \n",
       "294630                 152.0      188         0  \n",
       "214928                 109.0       17         0  \n",
       "23696                   26.0      115         0  \n",
       "155443                 152.0      221         0  \n",
       "210112                 152.0       51         0  "
      ]
     },
     "execution_count": 163,
     "metadata": {},
     "output_type": "execute_result"
    }
   ],
   "source": [
    "df_test"
   ]
  },
  {
   "cell_type": "code",
   "execution_count": 166,
   "metadata": {},
   "outputs": [],
   "source": [
    "# convert dataframe to json\n",
    "data = json.dumps( df_test.to_dict( orient='records' ) )"
   ]
  },
  {
   "cell_type": "code",
   "execution_count": 167,
   "metadata": {},
   "outputs": [
    {
     "data": {
      "text/plain": [
       "'[{\"id\": 359508, \"gender\": \"Male\", \"age\": 38, \"driving_license\": 1, \"region_code\": 35.0, \"previously_insured\": 0, \"vehicle_age\": \"between_1_2_year\", \"vehicle_damage\": 1, \"annual_premium\": 2630.0, \"policy_sales_channel\": 156.0, \"vintage\": 207, \"response\": 1}, {\"id\": 199658, \"gender\": \"Female\", \"age\": 24, \"driving_license\": 1, \"region_code\": 11.0, \"previously_insured\": 1, \"vehicle_age\": \"below_1_year\", \"vehicle_damage\": 0, \"annual_premium\": 28674.0, \"policy_sales_channel\": 152.0, \"vintage\": 114, \"response\": 0}, {\"id\": 236010, \"gender\": \"Male\", \"age\": 23, \"driving_license\": 1, \"region_code\": 28.0, \"previously_insured\": 1, \"vehicle_age\": \"below_1_year\", \"vehicle_damage\": 0, \"annual_premium\": 41620.0, \"policy_sales_channel\": 152.0, \"vintage\": 183, \"response\": 0}, {\"id\": 220450, \"gender\": \"Female\", \"age\": 21, \"driving_license\": 1, \"region_code\": 39.0, \"previously_insured\": 1, \"vehicle_age\": \"below_1_year\", \"vehicle_damage\": 0, \"annual_premium\": 35437.0, \"policy_sales_channel\": 152.0, \"vintage\": 99, \"response\": 0}, {\"id\": 226827, \"gender\": \"Female\", \"age\": 78, \"driving_license\": 1, \"region_code\": 8.0, \"previously_insured\": 1, \"vehicle_age\": \"between_1_2_year\", \"vehicle_damage\": 0, \"annual_premium\": 48234.0, \"policy_sales_channel\": 7.0, \"vintage\": 234, \"response\": 0}, {\"id\": 294631, \"gender\": \"Male\", \"age\": 28, \"driving_license\": 1, \"region_code\": 11.0, \"previously_insured\": 1, \"vehicle_age\": \"below_1_year\", \"vehicle_damage\": 0, \"annual_premium\": 20889.0, \"policy_sales_channel\": 152.0, \"vintage\": 188, \"response\": 0}, {\"id\": 214929, \"gender\": \"Female\", \"age\": 30, \"driving_license\": 1, \"region_code\": 41.0, \"previously_insured\": 1, \"vehicle_age\": \"between_1_2_year\", \"vehicle_damage\": 0, \"annual_premium\": 17029.0, \"policy_sales_channel\": 109.0, \"vintage\": 17, \"response\": 0}, {\"id\": 23697, \"gender\": \"Female\", \"age\": 53, \"driving_license\": 1, \"region_code\": 28.0, \"previously_insured\": 1, \"vehicle_age\": \"between_1_2_year\", \"vehicle_damage\": 0, \"annual_premium\": 35929.0, \"policy_sales_channel\": 26.0, \"vintage\": 115, \"response\": 0}, {\"id\": 155444, \"gender\": \"Male\", \"age\": 30, \"driving_license\": 1, \"region_code\": 28.0, \"previously_insured\": 1, \"vehicle_age\": \"below_1_year\", \"vehicle_damage\": 0, \"annual_premium\": 29482.0, \"policy_sales_channel\": 152.0, \"vintage\": 221, \"response\": 0}, {\"id\": 210113, \"gender\": \"Female\", \"age\": 22, \"driving_license\": 1, \"region_code\": 30.0, \"previously_insured\": 1, \"vehicle_age\": \"below_1_year\", \"vehicle_damage\": 0, \"annual_premium\": 44812.0, \"policy_sales_channel\": 152.0, \"vintage\": 51, \"response\": 0}]'"
      ]
     },
     "execution_count": 167,
     "metadata": {},
     "output_type": "execute_result"
    }
   ],
   "source": [
    "data"
   ]
  },
  {
   "cell_type": "code",
   "execution_count": 182,
   "metadata": {},
   "outputs": [
    {
     "name": "stdout",
     "output_type": "stream",
     "text": [
      "Status Code200\n"
     ]
    }
   ],
   "source": [
    "# API Call\n",
    "\n",
    "url = 'https://health-insurance-prediction-t.herokuapp.com/predict'\n",
    "header = { 'Content-type': 'application/json' }\n",
    "\n",
    "r = requests.post( url, data=data, headers=header )\n",
    "print( 'Status Code{}'.format( r.status_code ) )"
   ]
  },
  {
   "cell_type": "code",
   "execution_count": 183,
   "metadata": {},
   "outputs": [
    {
     "data": {
      "text/html": [
       "<div>\n",
       "<style scoped>\n",
       "    .dataframe tbody tr th:only-of-type {\n",
       "        vertical-align: middle;\n",
       "    }\n",
       "\n",
       "    .dataframe tbody tr th {\n",
       "        vertical-align: top;\n",
       "    }\n",
       "\n",
       "    .dataframe thead th {\n",
       "        text-align: right;\n",
       "    }\n",
       "</style>\n",
       "<table border=\"1\" class=\"dataframe\">\n",
       "  <thead>\n",
       "    <tr style=\"text-align: right;\">\n",
       "      <th></th>\n",
       "      <th>id</th>\n",
       "      <th>gender</th>\n",
       "      <th>age</th>\n",
       "      <th>driving_license</th>\n",
       "      <th>region_code</th>\n",
       "      <th>previously_insured</th>\n",
       "      <th>vehicle_age</th>\n",
       "      <th>vehicle_damage</th>\n",
       "      <th>annual_premium</th>\n",
       "      <th>policy_sales_channel</th>\n",
       "      <th>vintage</th>\n",
       "      <th>response</th>\n",
       "      <th>score</th>\n",
       "    </tr>\n",
       "  </thead>\n",
       "  <tbody>\n",
       "    <tr>\n",
       "      <th>0</th>\n",
       "      <td>359508</td>\n",
       "      <td>0.138225</td>\n",
       "      <td>0.276923</td>\n",
       "      <td>1</td>\n",
       "      <td>0.123835</td>\n",
       "      <td>0</td>\n",
       "      <td>below_1_year</td>\n",
       "      <td>0</td>\n",
       "      <td>-1.619817</td>\n",
       "      <td>156.0</td>\n",
       "      <td>0.681661</td>\n",
       "      <td>1</td>\n",
       "      <td>0.041995</td>\n",
       "    </tr>\n",
       "    <tr>\n",
       "      <th>7</th>\n",
       "      <td>23697</td>\n",
       "      <td>0.103431</td>\n",
       "      <td>0.507692</td>\n",
       "      <td>1</td>\n",
       "      <td>0.186336</td>\n",
       "      <td>1</td>\n",
       "      <td>below_1_year</td>\n",
       "      <td>0</td>\n",
       "      <td>0.309825</td>\n",
       "      <td>26.0</td>\n",
       "      <td>0.363322</td>\n",
       "      <td>0</td>\n",
       "      <td>0.000878</td>\n",
       "    </tr>\n",
       "    <tr>\n",
       "      <th>2</th>\n",
       "      <td>236010</td>\n",
       "      <td>0.138225</td>\n",
       "      <td>0.046154</td>\n",
       "      <td>1</td>\n",
       "      <td>0.186336</td>\n",
       "      <td>1</td>\n",
       "      <td>below_1_year</td>\n",
       "      <td>0</td>\n",
       "      <td>0.639612</td>\n",
       "      <td>152.0</td>\n",
       "      <td>0.598616</td>\n",
       "      <td>0</td>\n",
       "      <td>0.000844</td>\n",
       "    </tr>\n",
       "    <tr>\n",
       "      <th>8</th>\n",
       "      <td>155444</td>\n",
       "      <td>0.138225</td>\n",
       "      <td>0.153846</td>\n",
       "      <td>1</td>\n",
       "      <td>0.186336</td>\n",
       "      <td>1</td>\n",
       "      <td>below_1_year</td>\n",
       "      <td>0</td>\n",
       "      <td>-0.063772</td>\n",
       "      <td>152.0</td>\n",
       "      <td>0.730104</td>\n",
       "      <td>0</td>\n",
       "      <td>0.000823</td>\n",
       "    </tr>\n",
       "    <tr>\n",
       "      <th>6</th>\n",
       "      <td>214929</td>\n",
       "      <td>0.103431</td>\n",
       "      <td>0.153846</td>\n",
       "      <td>1</td>\n",
       "      <td>0.122732</td>\n",
       "      <td>1</td>\n",
       "      <td>below_1_year</td>\n",
       "      <td>0</td>\n",
       "      <td>-0.785410</td>\n",
       "      <td>109.0</td>\n",
       "      <td>0.024221</td>\n",
       "      <td>0</td>\n",
       "      <td>0.000818</td>\n",
       "    </tr>\n",
       "  </tbody>\n",
       "</table>\n",
       "</div>"
      ],
      "text/plain": [
       "       id    gender       age  driving_license  region_code  \\\n",
       "0  359508  0.138225  0.276923                1     0.123835   \n",
       "7   23697  0.103431  0.507692                1     0.186336   \n",
       "2  236010  0.138225  0.046154                1     0.186336   \n",
       "8  155444  0.138225  0.153846                1     0.186336   \n",
       "6  214929  0.103431  0.153846                1     0.122732   \n",
       "\n",
       "   previously_insured   vehicle_age  vehicle_damage  annual_premium  \\\n",
       "0                   0  below_1_year               0       -1.619817   \n",
       "7                   1  below_1_year               0        0.309825   \n",
       "2                   1  below_1_year               0        0.639612   \n",
       "8                   1  below_1_year               0       -0.063772   \n",
       "6                   1  below_1_year               0       -0.785410   \n",
       "\n",
       "   policy_sales_channel   vintage  response     score  \n",
       "0                 156.0  0.681661         1  0.041995  \n",
       "7                  26.0  0.363322         0  0.000878  \n",
       "2                 152.0  0.598616         0  0.000844  \n",
       "8                 152.0  0.730104         0  0.000823  \n",
       "6                 109.0  0.024221         0  0.000818  "
      ]
     },
     "execution_count": 183,
     "metadata": {},
     "output_type": "execute_result"
    }
   ],
   "source": [
    "d1 = pd.DataFrame( r.json(), columns=r.json()[0].keys() )\n",
    "d1.sort_values( 'score', ascending=False ).head()\n"
   ]
  },
  {
   "cell_type": "code",
   "execution_count": 184,
   "metadata": {},
   "outputs": [
    {
     "data": {
      "text/html": [
       "<div>\n",
       "<style scoped>\n",
       "    .dataframe tbody tr th:only-of-type {\n",
       "        vertical-align: middle;\n",
       "    }\n",
       "\n",
       "    .dataframe tbody tr th {\n",
       "        vertical-align: top;\n",
       "    }\n",
       "\n",
       "    .dataframe thead th {\n",
       "        text-align: right;\n",
       "    }\n",
       "</style>\n",
       "<table border=\"1\" class=\"dataframe\">\n",
       "  <thead>\n",
       "    <tr style=\"text-align: right;\">\n",
       "      <th></th>\n",
       "      <th>id</th>\n",
       "      <th>gender</th>\n",
       "      <th>age</th>\n",
       "      <th>driving_license</th>\n",
       "      <th>region_code</th>\n",
       "      <th>previously_insured</th>\n",
       "      <th>vehicle_age</th>\n",
       "      <th>vehicle_damage</th>\n",
       "      <th>annual_premium</th>\n",
       "      <th>policy_sales_channel</th>\n",
       "      <th>vintage</th>\n",
       "      <th>response</th>\n",
       "      <th>score</th>\n",
       "    </tr>\n",
       "  </thead>\n",
       "  <tbody>\n",
       "    <tr>\n",
       "      <th>0</th>\n",
       "      <td>359508</td>\n",
       "      <td>0.138225</td>\n",
       "      <td>0.276923</td>\n",
       "      <td>1</td>\n",
       "      <td>0.123835</td>\n",
       "      <td>0</td>\n",
       "      <td>below_1_year</td>\n",
       "      <td>0</td>\n",
       "      <td>-1.619817</td>\n",
       "      <td>156.0</td>\n",
       "      <td>0.681661</td>\n",
       "      <td>1</td>\n",
       "      <td>0.041995</td>\n",
       "    </tr>\n",
       "    <tr>\n",
       "      <th>1</th>\n",
       "      <td>199658</td>\n",
       "      <td>0.103431</td>\n",
       "      <td>0.061538</td>\n",
       "      <td>1</td>\n",
       "      <td>0.109177</td>\n",
       "      <td>1</td>\n",
       "      <td>below_1_year</td>\n",
       "      <td>0</td>\n",
       "      <td>-0.110595</td>\n",
       "      <td>152.0</td>\n",
       "      <td>0.359862</td>\n",
       "      <td>0</td>\n",
       "      <td>0.000587</td>\n",
       "    </tr>\n",
       "    <tr>\n",
       "      <th>2</th>\n",
       "      <td>236010</td>\n",
       "      <td>0.138225</td>\n",
       "      <td>0.046154</td>\n",
       "      <td>1</td>\n",
       "      <td>0.186336</td>\n",
       "      <td>1</td>\n",
       "      <td>below_1_year</td>\n",
       "      <td>0</td>\n",
       "      <td>0.639612</td>\n",
       "      <td>152.0</td>\n",
       "      <td>0.598616</td>\n",
       "      <td>0</td>\n",
       "      <td>0.000844</td>\n",
       "    </tr>\n",
       "    <tr>\n",
       "      <th>3</th>\n",
       "      <td>220450</td>\n",
       "      <td>0.103431</td>\n",
       "      <td>0.015385</td>\n",
       "      <td>1</td>\n",
       "      <td>0.123277</td>\n",
       "      <td>1</td>\n",
       "      <td>below_1_year</td>\n",
       "      <td>0</td>\n",
       "      <td>0.281314</td>\n",
       "      <td>152.0</td>\n",
       "      <td>0.307958</td>\n",
       "      <td>0</td>\n",
       "      <td>0.000634</td>\n",
       "    </tr>\n",
       "    <tr>\n",
       "      <th>4</th>\n",
       "      <td>226827</td>\n",
       "      <td>0.103431</td>\n",
       "      <td>0.892308</td>\n",
       "      <td>1</td>\n",
       "      <td>0.096867</td>\n",
       "      <td>1</td>\n",
       "      <td>below_1_year</td>\n",
       "      <td>0</td>\n",
       "      <td>1.022887</td>\n",
       "      <td>7.0</td>\n",
       "      <td>0.775087</td>\n",
       "      <td>0</td>\n",
       "      <td>0.000640</td>\n",
       "    </tr>\n",
       "    <tr>\n",
       "      <th>5</th>\n",
       "      <td>294631</td>\n",
       "      <td>0.138225</td>\n",
       "      <td>0.123077</td>\n",
       "      <td>1</td>\n",
       "      <td>0.109177</td>\n",
       "      <td>1</td>\n",
       "      <td>below_1_year</td>\n",
       "      <td>0</td>\n",
       "      <td>-0.561727</td>\n",
       "      <td>152.0</td>\n",
       "      <td>0.615917</td>\n",
       "      <td>0</td>\n",
       "      <td>0.000578</td>\n",
       "    </tr>\n",
       "    <tr>\n",
       "      <th>6</th>\n",
       "      <td>214929</td>\n",
       "      <td>0.103431</td>\n",
       "      <td>0.153846</td>\n",
       "      <td>1</td>\n",
       "      <td>0.122732</td>\n",
       "      <td>1</td>\n",
       "      <td>below_1_year</td>\n",
       "      <td>0</td>\n",
       "      <td>-0.785410</td>\n",
       "      <td>109.0</td>\n",
       "      <td>0.024221</td>\n",
       "      <td>0</td>\n",
       "      <td>0.000818</td>\n",
       "    </tr>\n",
       "    <tr>\n",
       "      <th>7</th>\n",
       "      <td>23697</td>\n",
       "      <td>0.103431</td>\n",
       "      <td>0.507692</td>\n",
       "      <td>1</td>\n",
       "      <td>0.186336</td>\n",
       "      <td>1</td>\n",
       "      <td>below_1_year</td>\n",
       "      <td>0</td>\n",
       "      <td>0.309825</td>\n",
       "      <td>26.0</td>\n",
       "      <td>0.363322</td>\n",
       "      <td>0</td>\n",
       "      <td>0.000878</td>\n",
       "    </tr>\n",
       "    <tr>\n",
       "      <th>8</th>\n",
       "      <td>155444</td>\n",
       "      <td>0.138225</td>\n",
       "      <td>0.153846</td>\n",
       "      <td>1</td>\n",
       "      <td>0.186336</td>\n",
       "      <td>1</td>\n",
       "      <td>below_1_year</td>\n",
       "      <td>0</td>\n",
       "      <td>-0.063772</td>\n",
       "      <td>152.0</td>\n",
       "      <td>0.730104</td>\n",
       "      <td>0</td>\n",
       "      <td>0.000823</td>\n",
       "    </tr>\n",
       "    <tr>\n",
       "      <th>9</th>\n",
       "      <td>210113</td>\n",
       "      <td>0.103431</td>\n",
       "      <td>0.030769</td>\n",
       "      <td>1</td>\n",
       "      <td>0.074944</td>\n",
       "      <td>1</td>\n",
       "      <td>below_1_year</td>\n",
       "      <td>0</td>\n",
       "      <td>0.824585</td>\n",
       "      <td>152.0</td>\n",
       "      <td>0.141869</td>\n",
       "      <td>0</td>\n",
       "      <td>0.000509</td>\n",
       "    </tr>\n",
       "  </tbody>\n",
       "</table>\n",
       "</div>"
      ],
      "text/plain": [
       "       id    gender       age  driving_license  region_code  \\\n",
       "0  359508  0.138225  0.276923                1     0.123835   \n",
       "1  199658  0.103431  0.061538                1     0.109177   \n",
       "2  236010  0.138225  0.046154                1     0.186336   \n",
       "3  220450  0.103431  0.015385                1     0.123277   \n",
       "4  226827  0.103431  0.892308                1     0.096867   \n",
       "5  294631  0.138225  0.123077                1     0.109177   \n",
       "6  214929  0.103431  0.153846                1     0.122732   \n",
       "7   23697  0.103431  0.507692                1     0.186336   \n",
       "8  155444  0.138225  0.153846                1     0.186336   \n",
       "9  210113  0.103431  0.030769                1     0.074944   \n",
       "\n",
       "   previously_insured   vehicle_age  vehicle_damage  annual_premium  \\\n",
       "0                   0  below_1_year               0       -1.619817   \n",
       "1                   1  below_1_year               0       -0.110595   \n",
       "2                   1  below_1_year               0        0.639612   \n",
       "3                   1  below_1_year               0        0.281314   \n",
       "4                   1  below_1_year               0        1.022887   \n",
       "5                   1  below_1_year               0       -0.561727   \n",
       "6                   1  below_1_year               0       -0.785410   \n",
       "7                   1  below_1_year               0        0.309825   \n",
       "8                   1  below_1_year               0       -0.063772   \n",
       "9                   1  below_1_year               0        0.824585   \n",
       "\n",
       "   policy_sales_channel   vintage  response     score  \n",
       "0                 156.0  0.681661         1  0.041995  \n",
       "1                 152.0  0.359862         0  0.000587  \n",
       "2                 152.0  0.598616         0  0.000844  \n",
       "3                 152.0  0.307958         0  0.000634  \n",
       "4                   7.0  0.775087         0  0.000640  \n",
       "5                 152.0  0.615917         0  0.000578  \n",
       "6                 109.0  0.024221         0  0.000818  \n",
       "7                  26.0  0.363322         0  0.000878  \n",
       "8                 152.0  0.730104         0  0.000823  \n",
       "9                 152.0  0.141869         0  0.000509  "
      ]
     },
     "execution_count": 184,
     "metadata": {},
     "output_type": "execute_result"
    }
   ],
   "source": [
    "d1"
   ]
  }
 ],
 "metadata": {
  "kernelspec": {
   "display_name": "Python 3.10.4 ('health_env': venv)",
   "language": "python",
   "name": "python3"
  },
  "language_info": {
   "codemirror_mode": {
    "name": "ipython",
    "version": 3
   },
   "file_extension": ".py",
   "mimetype": "text/x-python",
   "name": "python",
   "nbconvert_exporter": "python",
   "pygments_lexer": "ipython3",
   "version": "3.10.4"
  },
  "orig_nbformat": 4,
  "vscode": {
   "interpreter": {
    "hash": "e0506e939c73dd16abe019b0f88a3b19b98484663b78688b9835f390e68e9135"
   }
  }
 },
 "nbformat": 4,
 "nbformat_minor": 2
}
